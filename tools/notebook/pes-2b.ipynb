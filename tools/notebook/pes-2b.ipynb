{
 "cells": [
  {
   "cell_type": "markdown",
   "metadata": {},
   "source": [
    "TODOS\n",
    "\n",
    "1. convert mol dictionary to class variable\n",
    "2. add widgets and dynamicism/plots\n",
    "3. add more explanation/text describing functions\n",
    "4. add counter to avoid overwriting electronic structure input/output\n"
   ]
  },
  {
   "cell_type": "markdown",
   "metadata": {},
   "source": [
    "#### Import necessary headers"
   ]
  },
  {
   "cell_type": "code",
   "execution_count": 1,
   "metadata": {},
   "outputs": [
    {
     "name": "stdout",
     "output_type": "stream",
     "text": [
      "['', '/home/oosode/.conda/envs/python36/lib/python36.zip', '/home/oosode/.conda/envs/python36/lib/python3.6', '/home/oosode/.conda/envs/python36/lib/python3.6/lib-dynload', '/home/oosode/.conda/envs/python36/lib/python3.6/site-packages', '/home/oosode/.conda/envs/python36/lib/python3.6/site-packages/IPython/extensions', '/home/oosode/.ipython'] /home/oosode/.conda/envs/python36/bin/python\n",
      "3.6.5 |Anaconda, Inc.| (default, Apr 29 2018, 16:14:56) \n",
      "[GCC 7.2.0]\n"
     ]
    }
   ],
   "source": [
    "import sys\n",
    "print(sys.path, sys.executable)\n",
    "print(sys.version)"
   ]
  },
  {
   "cell_type": "code",
   "execution_count": 3,
   "metadata": {},
   "outputs": [],
   "source": [
    "import os\n",
    "import sys\n",
    "\n",
    "import ipywidgets as widgets\n",
    "from subprocess import Popen, PIPE\n",
    "from parsl import *\n",
    "from math import *\n",
    "\n",
    "import numpy as np\n",
    "import matplotlib.pyplot as plt\n",
    "from mpl_toolkits.mplot3d import Axes3D\n",
    "\n",
    "import cirpy\n"
   ]
  },
  {
   "cell_type": "code",
   "execution_count": 4,
   "metadata": {},
   "outputs": [
    {
     "name": "stdout",
     "output_type": "stream",
     "text": [
      "3\n",
      "H2O\n",
      "O   -0.0000   -0.0589   -0.0000\n",
      "H   -0.8110    0.4677    0.0000\n",
      "H    0.8110    0.4677    0.0000\n",
      "\n"
     ]
    }
   ],
   "source": [
    "a=cirpy.resolve('water', 'xyz')\n",
    "print(a)\n",
    "\n",
    "#b=cirpy.resolve('ice','image_url')\n",
    "%matplotlib inline\n",
    "\n",
    "#set plot sizes\n",
    "plt.rcParams['figure.figsize'] = (10, 2)  # (width, height)\n",
    "plt.rcParams['font.size'] = 20\n",
    "plt.rcParams['legend.fontsize'] = 16"
   ]
  },
  {
   "cell_type": "markdown",
   "metadata": {},
   "source": [
    "Widget test"
   ]
  },
  {
   "cell_type": "code",
   "execution_count": 5,
   "metadata": {},
   "outputs": [
    {
     "data": {
      "application/vnd.jupyter.widget-view+json": {
       "model_id": "5c365a8e453d47c6b932264f36b18798",
       "version_major": 2,
       "version_minor": 0
      },
      "text/plain": [
       "RadioButtons(description='Program:', options=('MOLPRO', 'NWChem'), value='MOLPRO')"
      ]
     },
     "metadata": {},
     "output_type": "display_data"
    }
   ],
   "source": [
    "widgets.RadioButtons(\n",
    "    options=['MOLPRO', 'NWChem'],\n",
    "    description='Program:',\n",
    "    disabled=False\n",
    ")"
   ]
  },
  {
   "cell_type": "code",
   "execution_count": null,
   "metadata": {},
   "outputs": [],
   "source": [
    "#import moldesign as mdt\n",
    "#mol = mdt.from_name('ethylene')\n",
    "#mol.draw()"
   ]
  },
  {
   "cell_type": "code",
   "execution_count": null,
   "metadata": {},
   "outputs": [],
   "source": [
    "#from ase import Atoms\n",
    "#from ase.visualize import view\n",
    "#d = 1.1\n",
    "#co = Atoms('CO', positions=[(0, 0, 0), (0, 0, d)])\n",
    "#view(co, viewer='VMD')"
   ]
  },
  {
   "cell_type": "markdown",
   "metadata": {
    "collapsed": true
   },
   "source": [
    "### Function to write electronic structure input files"
   ]
  },
  {
   "cell_type": "code",
   "execution_count": null,
   "metadata": {},
   "outputs": [],
   "source": [
    "def write_input(ID,mol,theory,basis,program,optimization,f12,cp=False):\n",
    "    \n",
    "    natoms=int(mol['natoms'])\n",
    "    \n",
    "    if program==\"MOLPRO\":\n",
    "        \n",
    "        fout=open(\"%s.%06d.com\"%(\"molpro\",ID),\"w\")\n",
    "        fout.write(\"***, %s %s \\n\"%(mol['name'],optimization))\n",
    "        fout.write(\"memory,200,M\\n\")\n",
    "        fout.write(\"geometry={\\n\")\n",
    "        \n",
    "        for i in range(natoms):\n",
    "\n",
    "            fout.write(\"%s%d \"%(mol['atom'][i],i))\n",
    "            fout.write(\"%15.10f, %15.10f, %15.10f\"%(mol['coord'][i][0],\\\n",
    "                                                    mol['coord'][i][1],\\\n",
    "                                                    mol['coord'][i][2]))\n",
    "            if i==natoms-1:\n",
    "                fout.write(\"}\\n\")\n",
    "            else:\n",
    "                fout.write(\"\\n\")\n",
    "\n",
    "        fout.write(\"basis=%s\"%(basis))\n",
    "        fout.write(\"\\n\")\n",
    "\n",
    "        if cp:\n",
    "            fout.write(\"text,cp calculation for %s %dmer_%i\\n\"%(name,m,n))\n",
    "            fout.write(\"dummy,\")\n",
    "            for i in range(atoms):\n",
    "                if molid[i] in dum:\n",
    "                    tmp=index*atoms\n",
    "                    fout.write(\"%s%d,\"%(names[tmp+i],i))\n",
    "                    fout.write(\"\\n\")\n",
    "                else:\n",
    "                    fout.write(\"text,calculation for %s %dmer\\n\"%(name,m))\n",
    "\n",
    "        if theory!=\"hf\":\n",
    "            fout.write(\"hf\\n\")\n",
    "            fout.write(\"%s\"%(theory))\n",
    "            if f12:\n",
    "                fout.write(\"-f12\\n\")\n",
    "            else:\n",
    "                fout.write(\"\\n\")\n",
    "        else:\n",
    "            fout.write(\"hf\\n\")\n",
    "            \n",
    "        if optimization==\"Minimum\":\n",
    "            fout.write(\"optg\\n\")\n",
    "            fout.write(\"maxit=50\\n\")\n",
    "        if optimization==\"Saddle\":\n",
    "            fout.write(\"optg\")\n",
    "\n",
    "        fout.write(\"e_mer=energy\\n\")\n",
    "        if (f12):\n",
    "            fout.write(\"e_mer_F12a=energy(1)\\n\")\n",
    "            fout.write(\"e_mer_F12b=energy(2)\\n\")\n",
    "        fout.write(\"\\n\")\n",
    "        fout.close()\n",
    "        return\n",
    "        \n",
    "    if program==\"NWChem\":\n",
    "        pass"
   ]
  },
  {
   "cell_type": "markdown",
   "metadata": {},
   "source": [
    "### Function to run electronic structure program"
   ]
  },
  {
   "cell_type": "code",
   "execution_count": null,
   "metadata": {},
   "outputs": [],
   "source": [
    "def run_input(ID,program):\n",
    "    \n",
    "    if program==\"MOLPRO\":\n",
    "        process = Popen([\"/Users/oosode/Software/molpro-2015/bin/molpro.exe\", \"molpro.%06d.com\"%(ID)], stdout=PIPE)\n",
    "    elif program==\"NWChem\":\n",
    "        process = Popen([],stdout=PIPE)\n",
    "    else:\n",
    "        raise IOError(\"Unknown program.\") \n",
    "        \n",
    "    return"
   ]
  },
  {
   "cell_type": "code",
   "execution_count": 38,
   "metadata": {},
   "outputs": [
    {
     "name": "stdout",
     "output_type": "stream",
     "text": [
      "Caught exception : Command 'squeue --job 46289462' timed out after 10 seconds\n",
      "Caught exception : Command 'squeue --job 46289271' timed out after 10 seconds\n"
     ]
    }
   ],
   "source": [
    "from parsl.configs.local import localThreads\n",
    "\n",
    "config = {\n",
    "    \"sites\": [\n",
    "        {\n",
    "            \"site\": \"midway_ipp_multicore\",\n",
    "            \"auth\": {\n",
    "                \"channel\": \"local\",\n",
    "                \"hostname\": \"swift.rcc.uchicago.edu\",\n",
    "                \"scriptDir\": \"/scratch/midway2/{0}/parsl_scripts\".format('oosode')\n",
    "            },\n",
    "            \"execution\": {\n",
    "                \"executor\": \"ipp\", # remote executor\n",
    "                \"provider\": \"slurm\", \n",
    "                \"block\": {\n",
    "                    \"nodes\": 1, # nodes per block\n",
    "                    \"taskBlocks\": 1, # tasks per block\n",
    "                    #\"taskBlocks\":20, \n",
    "                    \"walltime\": \"00:05:00\",\n",
    "                    \"initBlocks\": 1,\n",
    "                    \"minBlocks\" : 1,\n",
    "                    \"maxBlocks\": 100,\n",
    "                    \"options\": {'partition' : 'westmere',\n",
    "                                'overrides' : 'source activate python36' }\n",
    "                }\n",
    "            }\n",
    "        }, \n",
    "        {\n",
    "            \"site\": \"midway_ipp_singlenode\",\n",
    "            \"auth\": {\n",
    "                \"channel\": \"local\",\n",
    "                \"hostname\": \"swift.rcc.uchicago.edu\",\n",
    "                \"scriptDir\": \"/scratch/midway2/{0}/parsl_scripts\".format('oosode')\n",
    "            },\n",
    "            \"execution\": {\n",
    "                \"executor\": \"ipp\", # remote executor\n",
    "                \"provider\": \"slurm\", \n",
    "                \"block\": {\n",
    "                    \"nodes\": 1, # nodes per block\n",
    "                    \"taskBlocks\": 1, # tasks per block\n",
    "                    #\"taskBlocks\":20, \n",
    "                    \"walltime\": \"00:05:00\",\n",
    "                    \"initBlocks\": 1,\n",
    "                    \"minBlocks\" : 1,\n",
    "                    \"maxBlocks\": 1,\n",
    "                    \"options\": {'partition' : 'westmere',\n",
    "                                'overrides' : 'source activate python36' }\n",
    "                }\n",
    "            }\n",
    "        }\n",
    "        \n",
    "    ],\n",
    "    \"globals\": {\n",
    "        \"lazyErrors\": True,\n",
    "    },\n",
    "    #\"controller\" : {'publicIp' : ''}\n",
    "}\n",
    "\n",
    "dfk = DataFlowKernel(config=config)\n",
    "#dfk = DataFlowKernel(config=localThreads)"
   ]
  },
  {
   "cell_type": "code",
   "execution_count": null,
   "metadata": {},
   "outputs": [],
   "source": []
  },
  {
   "cell_type": "code",
   "execution_count": 32,
   "metadata": {},
   "outputs": [],
   "source": [
    "\n",
    "@App('bash', dfk, sites=['midway_ipp_multicore'])\n",
    "def molpro(ID, outputs=[], stderr=None, stdout=None):\n",
    "    return \"uname -a; /home/oosode/software/molpro-2015/bin/molpro.exe  molpro.{0:06d}.com; touch molpro.{0:06d}.xml molpro.{0:06d}.out; sleep 15\".format(ID)\n",
    "\n",
    "for ID in range(100):\n",
    "    fut = molpro(ID, outputs=[\"molpro.%06d.out\"%(ID), \"molpro.%06d.xml\"%(ID)],\n",
    "                 stdout=\"molpro.%06d.stdout\"%(ID),\n",
    "                 stderr=\"molpro.%06d.stderr\"%(ID))"
   ]
  },
  {
   "cell_type": "code",
   "execution_count": 35,
   "metadata": {},
   "outputs": [
    {
     "name": "stdout",
     "output_type": "stream",
     "text": [
      "<AppFuture at 0x7f8db902b828 state=finished returned int>\n"
     ]
    }
   ],
   "source": [
    "print(fut)"
   ]
  },
  {
   "cell_type": "code",
   "execution_count": 40,
   "metadata": {},
   "outputs": [
    {
     "name": "stdout",
     "output_type": "stream",
     "text": [
      "/bin/bash: /Users/oosode/Software/molpro-2015/bin/molpro.exe: No such file or directory\n",
      "Caught exception : Command 'squeue --job 46289271' timed out after 10 seconds\n",
      "Caught exception : Command 'squeue --job 46289462' timed out after 10 seconds\n"
     ]
    }
   ],
   "source": [
    "!cat molpro.000002.stderr"
   ]
  },
  {
   "cell_type": "code",
   "execution_count": 39,
   "metadata": {},
   "outputs": [],
   "source": [
    "!qstat -u $USER"
   ]
  },
  {
   "cell_type": "markdown",
   "metadata": {},
   "source": [
    "### Function to read electronic structure ouptut"
   ]
  },
  {
   "cell_type": "code",
   "execution_count": null,
   "metadata": {},
   "outputs": [],
   "source": []
  },
  {
   "cell_type": "code",
   "execution_count": null,
   "metadata": {},
   "outputs": [],
   "source": [
    "def read_output(ID,program,mol):\n",
    "    \n",
    "    energy={}\n",
    "    \n",
    "    if program==\"MOLPRO\":    \n",
    "        c=False\n",
    "        fout=\"molpro.%06d.out\"%(ID)\n",
    "        if not os.path.isfile(fout):\n",
    "            raiseIOError(\"No file for molpro.%06d.com\"%(ID))\n",
    "\n",
    "        else:\n",
    "            fl=open(fout).readlines()\n",
    "\n",
    "            for l in range(len(fl)-1,len(fl)-5,-1):\n",
    "                if fl[l].find(\"Variable memory released\")>=0:\n",
    "                    c=True\n",
    "                    break\n",
    "\n",
    "            if (not c):\n",
    "                energy[0]=\"inf\"\n",
    "                print(\"No energies for file molpro.%06d.com\"%(ID))\n",
    "                return\n",
    "\n",
    "            else:\n",
    "                for l,line in enumerate(fl):\n",
    "                    if line.find(\"SETTING E_MER \")>=0: # energy\n",
    "                        energy['simple']=float(line.strip().split()[-2].replace(\"D\",\"E\"))\n",
    "                        mol['energy']=energy\n",
    "                        \n",
    "                    #if line.find(\"SETTING E_MER_F12A \")>=0: # F12a energy\n",
    "                    #    energy['f12a']=float(line.strip().split()[-2].replace(\"D\",\"E\"))\n",
    "                    #    mol['energy']=energy\n",
    "                    #elif line.find(\"SETTING E_MER_F12B \")>=0: # F12b energy\n",
    "                    #    energy['f12b']=float(line.strip().split()[-2].replace(\"D\",\"E\"))\n",
    "                    #    mol['energy']=energy\n",
    "                    \n",
    "                    elif line.find(\"END OF GEOMETRY OPTIMIZATION.\")>=0:\n",
    "                        natoms=int(fl[l+4].split()[0])\n",
    "                        for n in range(natoms):\n",
    "                            for i in range(3):\n",
    "                                mol['coord'][n][i]=float(fl[l+6+n].split()[i+1])\n",
    "                    \n",
    "            return\n",
    "\n"
   ]
  },
  {
   "cell_type": "markdown",
   "metadata": {},
   "source": [
    "### Choose electronic structure program"
   ]
  },
  {
   "cell_type": "code",
   "execution_count": null,
   "metadata": {},
   "outputs": [],
   "source": [
    "w=widgets.RadioButtons(\n",
    "    options=['MOLPRO', 'NWChem'],\n",
    "    description='Program:',\n",
    "    disabled=False\n",
    ")\n",
    "display(w)\n",
    "#program=w.value"
   ]
  },
  {
   "cell_type": "code",
   "execution_count": null,
   "metadata": {},
   "outputs": [],
   "source": [
    "print(w.value)\n",
    "program='MOLPRO'"
   ]
  },
  {
   "cell_type": "markdown",
   "metadata": {},
   "source": [
    "### Choose level of theory and basis set"
   ]
  },
  {
   "cell_type": "code",
   "execution_count": null,
   "metadata": {},
   "outputs": [],
   "source": [
    "wwidgets.Dropdown(\n",
    "    options=['HF', 'MP2', 'CCSD(T)'],\n",
    "    value='HF',\n",
    "    description='Level of theory:',\n",
    "    disabled=False,\n",
    ")\n",
    "\n",
    "widgets.RadioButtons(\n",
    "    options=['True', 'False'],\n",
    "    description='Explicit correlation:',\n",
    "    disabled=False\n",
    ")\n",
    "widgets.Dropdown(\n",
    "    options=['aug-cc-pVDZ', 'aug-cc-pVTZ', 'aug-cc-pVQZ',\\\n",
    "             'cc-pVDZ-F12', 'cc-pVTZ-F12', 'cc-pVQZ-F12'],\n",
    "    value='aug-cc-pVDZ',\n",
    "    description='Basis set:',\n",
    "    disabled=False,\n",
    ")"
   ]
  },
  {
   "cell_type": "code",
   "execution_count": null,
   "metadata": {},
   "outputs": [],
   "source": [
    "theory=\"mp2\"\n",
    "basis=\"aug-cc-pVDZ\"\n",
    "f12=True"
   ]
  },
  {
   "cell_type": "markdown",
   "metadata": {},
   "source": [
    "There should eventually be a Query function that lets you pick a molecule perhaps from the CCCBDB at a certain level of theory and use it to begin the calculations."
   ]
  },
  {
   "cell_type": "markdown",
   "metadata": {},
   "source": [
    "### Choose Molecule 1"
   ]
  },
  {
   "cell_type": "code",
   "execution_count": null,
   "metadata": {},
   "outputs": [],
   "source": [
    "# this should be a dictionary\n",
    "mol1 = {'name':\"CO2\", \\\n",
    "        'coord':[[ 0.000, 0.000, 0.000], \\\n",
    "               [ 1.162, 0.000, 0.000], \\\n",
    "               [-1.162, 0.000, 0.000]], \\\n",
    "        'mass':[ 12.0000, 16.00000, 16.0000], \\\n",
    "        'natoms':3, \\\n",
    "        'atom':[\"C\",\"O\",\"O\"]}\n",
    "                           \n",
    "#mol1 =  [[\"C\",[ 0.000, 0.000, 0.000],12.0000],\\\n",
    "#         [\"O\",[ 1.162, 0.000, 0.000],12.0000],\\\n",
    "#         [\"O\",[-1.162, 0.000, 0.000],12.0000]]]"
   ]
  },
  {
   "cell_type": "markdown",
   "metadata": {},
   "source": [
    "### Choose Molecule 2"
   ]
  },
  {
   "cell_type": "code",
   "execution_count": null,
   "metadata": {},
   "outputs": [],
   "source": [
    "mol2 = {'name':\"CO2\", \\\n",
    "        'coord':[[ 0.000, 0.000, 0.000], \\\n",
    "               [ 1.162, 0.000, 0.000], \\\n",
    "               [-1.162, 0.000, 0.000]], \\\n",
    "        'mass':[ 12.0000, 16.00000, 16.0000], \\\n",
    "        'natoms':3, \\\n",
    "        'atom':[\"C\",\"O\",\"O\"]}"
   ]
  },
  {
   "cell_type": "code",
   "execution_count": null,
   "metadata": {},
   "outputs": [],
   "source": [
    "pair=[mol1,mol2]"
   ]
  },
  {
   "cell_type": "code",
   "execution_count": null,
   "metadata": {},
   "outputs": [],
   "source": []
  },
  {
   "cell_type": "markdown",
   "metadata": {
    "collapsed": true
   },
   "source": [
    "### Optimize monomers"
   ]
  },
  {
   "cell_type": "code",
   "execution_count": null,
   "metadata": {},
   "outputs": [],
   "source": [
    "for i in range(2): # loop over monomers\n",
    "    #write_input(i,pair[i],theory,basis,program,\"Minimum\",f12,False)\n",
    "    #run_input(i,program)\n",
    "    read_output(i,program,pair[i])\n",
    "    print(pair[i]['coord'],print(pair[i]['energy']))"
   ]
  },
  {
   "cell_type": "markdown",
   "metadata": {
    "collapsed": true
   },
   "source": [
    "## Dimer initiation"
   ]
  },
  {
   "cell_type": "markdown",
   "metadata": {},
   "source": [
    "Molecule 1 is always placed at the origin (0,0,0) oriented in space with $\\theta_1$ and $\\phi_1$. The range of $\\theta_1$ is [0°, 180°] and the range of $\\phi_1$ is [0, 360°). Molecule 2 is placed using spherical coordinates at some distance R from the origin, with $\\theta_d$ and $\\phi_d$ ranging from [0°, 180°] and [0, 360°), respectively. The orientation of Molecule 2 is denoted by $\\theta_2$ and $\\phi_2$ values. All angles are in degree units and distances are in angstroms.\n",
    "\n",
    "<img src='https://upload.wikimedia.org/wikipedia/commons/4/4f/3D_Spherical.svg' style=\"width: 400px;\">"
   ]
  },
  {
   "cell_type": "markdown",
   "metadata": {},
   "source": [
    "#### Select orientations"
   ]
  },
  {
   "cell_type": "code",
   "execution_count": null,
   "metadata": {},
   "outputs": [],
   "source": [
    "# orient molecule 0\n",
    "theta_0 = 0\n",
    "phi_0 = 0\n",
    "\n",
    "# orient molecule 1\n",
    "theta_1 = 180\n",
    "phi_1 = 180\n",
    "\n",
    "# position\n",
    "R = 4.0\n",
    "theta_d = 0\n",
    "phi_d = 0"
   ]
  },
  {
   "cell_type": "code",
   "execution_count": null,
   "metadata": {},
   "outputs": [],
   "source": [
    "def center_of_mass(mol):\n",
    "    \n",
    "    x=0.0\n",
    "    y=0.0\n",
    "    z=0.0\n",
    "    \n",
    "    mass=mol[\"mass\"]\n",
    "    totalmass=0.0\n",
    "    \n",
    "    for a,atom in enumerate(mol[\"coord\"]):\n",
    "        \n",
    "        x+=atom[0]*mass[a]\n",
    "        y+=atom[1]*mass[a]\n",
    "        z+=atom[2]*mass[a]\n",
    "        totalmass+=mass[a]\n",
    "    \n",
    "    x=x/totalmass\n",
    "    y=y/totalmass\n",
    "    z=z/totalmass\n",
    "    \n",
    "    mol[\"com\"]=[x,y,z]\n",
    "    return\n",
    "\n",
    "def center_molecule(mol):\n",
    "    \n",
    "    com=mol[\"com\"]\n",
    "    \n",
    "    for atom in mol[\"coord\"]:\n",
    "        \n",
    "        atom[0]-=com[0]\n",
    "        atom[1]-=com[1]\n",
    "        atom[2]-=com[2]\n",
    "        \n",
    "    return\n",
    "\n",
    "\n",
    "def rotate_molecule(mol,theta,phi):\n",
    "    \n",
    "    for atom in mol[\"coord\"]:\n",
    "        \n",
    "        x=atom[0]\n",
    "        y=atom[1]\n",
    "        z=atom[2]\n",
    "\n",
    "        r=sqrt(x*x + y*y + z*z)\n",
    "        if r<1.0e-10:\n",
    "            continue\n",
    "        t=acos(z/r)\n",
    "        p=atan2(y,x)\n",
    "        \n",
    "        t+=radians(theta)\n",
    "        p+=radians(phi)\n",
    "        \n",
    "        atom[0]=r*sin(t)*cos(p)\n",
    "        atom[1]=r*sin(t)*sin(p)\n",
    "        atom[2]=r*cos(t)\n",
    "    \n",
    "    return\n",
    "\n",
    "def position_molecule(mol,R,theta,phi):\n",
    "    \n",
    "    x=R*sin(theta)*cos(phi)\n",
    "    y=R*sin(theta)*sin(phi)\n",
    "    z=R*cos(theta)\n",
    "    \n",
    "    for atom in mol[\"coord\"]:\n",
    "        \n",
    "        atom[0]+=x\n",
    "        atom[1]+=y\n",
    "        atom[2]+=z\n",
    "        \n",
    "    return\n",
    "        "
   ]
  },
  {
   "cell_type": "markdown",
   "metadata": {},
   "source": [
    "#### Orient dimer"
   ]
  },
  {
   "cell_type": "code",
   "execution_count": null,
   "metadata": {},
   "outputs": [],
   "source": [
    "center_of_mass(pair[0])\n",
    "center_of_mass(pair[1])\n",
    "\n",
    "center_molecule(pair[0])\n",
    "center_molecule(pair[1])\n",
    "\n",
    "rotate_molecule(pair[0],theta_0,phi_0)\n",
    "rotate_molecule(pair[1],theta_1,phi_1)\n",
    "\n",
    "position_molecule(pair[1],R,theta_d,phi_d)"
   ]
  },
  {
   "cell_type": "code",
   "execution_count": null,
   "metadata": {},
   "outputs": [],
   "source": [
    "dim  = {'name':\"CO2\", \\\n",
    "        'coord':pair[0]['coord'] + pair[1]['coord'], \\\n",
    "        'mass':pair[0]['mass'] + pair[1]['mass'], \\\n",
    "        'natoms':pair[0]['natoms'] + pair[1]['natoms'], \\\n",
    "        'atom':pair[0]['atom'] + pair[1]['atom'],\\\n",
    "        'frag':[0]*pair[0]['natoms'] + [1]*pair[1]['natoms'],\\\n",
    "        'natoms1':pair[0]['natoms'],'natoms2':pair[0]['natoms']}\n",
    "\n",
    "#print(dim)"
   ]
  },
  {
   "cell_type": "markdown",
   "metadata": {
    "collapsed": true
   },
   "source": [
    "### Find minimimum, saddle point or leave alone"
   ]
  },
  {
   "cell_type": "code",
   "execution_count": null,
   "metadata": {},
   "outputs": [],
   "source": [
    "w=widgets.RadioButtons(\n",
    "    options=['Minimum', 'Saddle', 'None'],\n",
    "    description='Optimization:',\n",
    "    disabled=False\n",
    ")\n",
    "#display(w)\n",
    "optimization=\"Minimum\""
   ]
  },
  {
   "cell_type": "code",
   "execution_count": null,
   "metadata": {},
   "outputs": [],
   "source": [
    "if optimization==\"None\":\n",
    "    pass\n",
    "elif optimization==\"Minimum\" or \"Saddle\":\n",
    "    #write_input(3,dim,theory,basis,program,optimization,f12,False)\n",
    "    #run_input(3,program)\n",
    "    #read_output(3,program)\n",
    "    \n",
    "else:\n",
    "    raise IOError(\"Unknown optimization.\")"
   ]
  },
  {
   "cell_type": "code",
   "execution_count": null,
   "metadata": {},
   "outputs": [],
   "source": []
  },
  {
   "cell_type": "code",
   "execution_count": null,
   "metadata": {},
   "outputs": [],
   "source": []
  },
  {
   "cell_type": "code",
   "execution_count": null,
   "metadata": {},
   "outputs": [],
   "source": [
    "w=widgets.FloatRangeSlider(\n",
    "    value=[5, 7.5],\n",
    "    min=1,\n",
    "    max=10.0,\n",
    "    step=0.1,\n",
    "    description='Intermolecular distance:',\n",
    "    disabled=False,\n",
    "    continuous_update=False,\n",
    "    orientation='horizontal',\n",
    "    readout=True,\n",
    "    readout_format='.1f',\n",
    ")\n",
    "#w.value\n",
    "#display(w)    "
   ]
  },
  {
   "cell_type": "code",
   "execution_count": null,
   "metadata": {},
   "outputs": [],
   "source": [
    "minimum=2.0\n",
    "maximum=8.0\n",
    "increment=0.1\n",
    "\n",
    "ranges=[]\n",
    "x=minimum\n",
    "while x<=maximum:\n",
    "    ranges.append(x)\n",
    "    x+=increment\n",
    "print(ranges)"
   ]
  },
  {
   "cell_type": "code",
   "execution_count": null,
   "metadata": {},
   "outputs": [],
   "source": [
    "def pes_scan(dim,ranges):\n",
    "\n",
    "    center_of_mass(dim[0])\n",
    "    center_of_mass(dim[1])\n",
    "\n",
    "    center_molecule(dim[0])\n",
    "    center_molecule(dim[1])\n",
    "    \n",
    "    com1=dim[0][\"com\"]\n",
    "    com2=dim[1][\"com\"]\n",
    "    \n",
    "    # get distance vector\n",
    "    v=[com2[0]-com1[0],\\\n",
    "       com2[1]-com1[1],\\\n",
    "       com2[2]-com1[2]]\n",
    "\n",
    "    normsq = 0.0\n",
    "    for l in range(3):\n",
    "        normsq += v[l]*v[l]\n",
    "\n",
    "    norm = math.sqrt(normsq)\n",
    "    for l in range(3):\n",
    "        v[l] /= norm\n",
    "        \n",
    "    # center monomer 2\n",
    "    for j in range(natoms):\n",
    "        if dim[\"frag\"][j]==1: \n",
    "            dimer_scans[i][\"coord\"][j][0]-=com2[0]\n",
    "            dimer_scans[i][\"coord\"][j][1]-=com2[1]\n",
    "            dimer_scans[i][\"coord\"][j][2]-=com2[2]\n",
    "            \n",
    "    self.coord=[]\n",
    "\n",
    "    # do pes scan\n",
    "    dimer_scans=[]\n",
    "    natoms=dim[\"natoms\"]\n",
    "    \n",
    "    for i,r in enumerate(ranges):\n",
    "\n",
    "        dimer_scans.append(dim)\n",
    "\n",
    "        for j in range(natoms):\n",
    "            if dim[\"frag\"][j]==1:\n",
    "                dimer_scans[i][\"coord\"][j][0]+=v[0]*r\n",
    "                dimer_scans[i][\"coord\"][j][1]+=v[1]*r\n",
    "                dimer_scans[i][\"coord\"][j][2]+=v[2]*r\n",
    "           \n",
    "    return"
   ]
  },
  {
   "cell_type": "code",
   "execution_count": null,
   "metadata": {},
   "outputs": [],
   "source": [
    "pes_scans()\n",
    "\n",
    "for i in range(ranges): # loop over monomers\n",
    "    write_input(i,pair[i],theory,basis,program,\"Minimum\",f12,False)\n",
    "\n",
    "    \n"
   ]
  },
  {
   "cell_type": "code",
   "execution_count": null,
   "metadata": {},
   "outputs": [],
   "source": [
    "\n",
    "for i in range(ranges): # loop over monomers \n",
    "    run_input(i,program)"
   ]
  },
  {
   "cell_type": "code",
   "execution_count": null,
   "metadata": {},
   "outputs": [],
   "source": [
    "for i in range(ranges): # loop over monomers\n",
    "    read_output(i,program,dimer_scans[i])\n",
    "    print(dimer[i]['coord'],print(dimer[i]['energy']))"
   ]
  },
  {
   "cell_type": "markdown",
   "metadata": {},
   "source": [
    "Test"
   ]
  },
  {
   "cell_type": "code",
   "execution_count": null,
   "metadata": {},
   "outputs": [],
   "source": [
    "def f(x):\n",
    "    return x"
   ]
  },
  {
   "cell_type": "code",
   "execution_count": null,
   "metadata": {},
   "outputs": [],
   "source": [
    "interact(f, x=10);"
   ]
  },
  {
   "cell_type": "code",
   "execution_count": null,
   "metadata": {},
   "outputs": [],
   "source": []
  }
 ],
 "metadata": {
  "kernelspec": {
   "display_name": "Python3.6",
   "language": "python",
   "name": "python36"
  },
  "language_info": {
   "codemirror_mode": {
    "name": "ipython",
    "version": 3
   },
   "file_extension": ".py",
   "mimetype": "text/x-python",
   "name": "python",
   "nbconvert_exporter": "python",
   "pygments_lexer": "ipython3",
   "version": "3.6.5"
  },
  "widgets": {
   "application/vnd.jupyter.widget-state+json": {
    "state": {
     "3624da04d68a4aa2a25d360e738763af": {
      "model_module_version": "^2.1.4",
      "state": {
       "value": "<table style=\"width:100%\">\n                <thead>\n                    <tr>\n                        <th colspan=\"2\">\n                        Could not create model:\n                        </th>\n                    </tr>\n                </thead>\n                <tbody>\n                    <tr>\n                        <td>Model name</td>\n                        <td> undefined </td>\n                    </tr>\n                    <tr>\n                        <td>Model module</td>\n                        <td> undefined </td>\n                    </tr>\n                    <tr>\n                        <td>Model module version</td>\n                        <td> undefined </td>\n                    </tr>\n                <tbody>\n                <tfoot>\n                    <tr>\n                        <th colspan=\"2\">\n                        Class undefined not found in registry \n                        </th>\n                    </tr>\n                </tfoot>\n                </table>"
      }
     },
     "8de269a0d31c4de38704899b4b8c9dc6": {
      "model_module_version": "^2.1.4",
      "state": {
       "description": "x",
       "value": "<table style=\"width:100%\">\n                <thead>\n                    <tr>\n                        <th colspan=\"2\">\n                        Could not create model:\n                        </th>\n                    </tr>\n                </thead>\n                <tbody>\n                    <tr>\n                        <td>Model name</td>\n                        <td> undefined </td>\n                    </tr>\n                    <tr>\n                        <td>Model module</td>\n                        <td> undefined </td>\n                    </tr>\n                    <tr>\n                        <td>Model module version</td>\n                        <td> undefined </td>\n                    </tr>\n                <tbody>\n                <tfoot>\n                    <tr>\n                        <th colspan=\"2\">\n                        Class undefined not found in registry \n                        </th>\n                    </tr>\n                </tfoot>\n                </table>"
      }
     },
     "9593ab0cdd0f4e34ade7d793a0008e4c": {
      "model_module_version": "^2.1.4",
      "state": {
       "msg_id": "",
       "value": "<table style=\"width:100%\">\n                <thead>\n                    <tr>\n                        <th colspan=\"2\">\n                        Could not create model:\n                        </th>\n                    </tr>\n                </thead>\n                <tbody>\n                    <tr>\n                        <td>Model name</td>\n                        <td> undefined </td>\n                    </tr>\n                    <tr>\n                        <td>Model module</td>\n                        <td> undefined </td>\n                    </tr>\n                    <tr>\n                        <td>Model module version</td>\n                        <td> undefined </td>\n                    </tr>\n                <tbody>\n                <tfoot>\n                    <tr>\n                        <th colspan=\"2\">\n                        Class undefined not found in registry \n                        </th>\n                    </tr>\n                </tfoot>\n                </table>"
      }
     },
     "9ff03ac7a9eb44a28ee4dfef5292f36f": {
      "model_module_version": "^2.1.4",
      "state": {
       "value": "<table style=\"width:100%\">\n                <thead>\n                    <tr>\n                        <th colspan=\"2\">\n                        Could not create model:\n                        </th>\n                    </tr>\n                </thead>\n                <tbody>\n                    <tr>\n                        <td>Model name</td>\n                        <td> undefined </td>\n                    </tr>\n                    <tr>\n                        <td>Model module</td>\n                        <td> undefined </td>\n                    </tr>\n                    <tr>\n                        <td>Model module version</td>\n                        <td> undefined </td>\n                    </tr>\n                <tbody>\n                <tfoot>\n                    <tr>\n                        <th colspan=\"2\">\n                        Class undefined not found in registry \n                        </th>\n                    </tr>\n                </tfoot>\n                </table>"
      }
     },
     "a94d2ce0839e41b192de5aa27fedfc8d": {
      "model_module_version": "^2.1.4",
      "state": {
       "children": [
        "IPY_MODEL_8de269a0d31c4de38704899b4b8c9dc6",
        "IPY_MODEL_9593ab0cdd0f4e34ade7d793a0008e4c"
       ],
       "value": "<table style=\"width:100%\">\n                <thead>\n                    <tr>\n                        <th colspan=\"2\">\n                        Could not create model:\n                        </th>\n                    </tr>\n                </thead>\n                <tbody>\n                    <tr>\n                        <td>Model name</td>\n                        <td> undefined </td>\n                    </tr>\n                    <tr>\n                        <td>Model module</td>\n                        <td> undefined </td>\n                    </tr>\n                    <tr>\n                        <td>Model module version</td>\n                        <td> undefined </td>\n                    </tr>\n                <tbody>\n                <tfoot>\n                    <tr>\n                        <th colspan=\"2\">\n                        Class undefined not found in registry \n                        </th>\n                    </tr>\n                </tfoot>\n                </table>"
      }
     },
     "b12a22f97fe04799a0f131e5f8c0c738": {
      "model_module_version": "^2.1.4",
      "state": {
       "value": "<table style=\"width:100%\">\n                <thead>\n                    <tr>\n                        <th colspan=\"2\">\n                        Could not create model:\n                        </th>\n                    </tr>\n                </thead>\n                <tbody>\n                    <tr>\n                        <td>Model name</td>\n                        <td> undefined </td>\n                    </tr>\n                    <tr>\n                        <td>Model module</td>\n                        <td> undefined </td>\n                    </tr>\n                    <tr>\n                        <td>Model module version</td>\n                        <td> undefined </td>\n                    </tr>\n                <tbody>\n                <tfoot>\n                    <tr>\n                        <th colspan=\"2\">\n                        Class undefined not found in registry \n                        </th>\n                    </tr>\n                </tfoot>\n                </table>"
      }
     },
     "d7dc9890a6044ac58f3caab9117d7c62": {
      "model_module_version": "^2.1.4",
      "state": {
       "value": "<table style=\"width:100%\">\n                <thead>\n                    <tr>\n                        <th colspan=\"2\">\n                        Could not create model:\n                        </th>\n                    </tr>\n                </thead>\n                <tbody>\n                    <tr>\n                        <td>Model name</td>\n                        <td> undefined </td>\n                    </tr>\n                    <tr>\n                        <td>Model module</td>\n                        <td> undefined </td>\n                    </tr>\n                    <tr>\n                        <td>Model module version</td>\n                        <td> undefined </td>\n                    </tr>\n                <tbody>\n                <tfoot>\n                    <tr>\n                        <th colspan=\"2\">\n                        Class undefined not found in registry \n                        </th>\n                    </tr>\n                </tfoot>\n                </table>"
      }
     },
     "e11546946bf44f93b1dba17844cf4fdb": {
      "model_module_version": "^2.1.4",
      "state": {
       "value": "<table style=\"width:100%\">\n                <thead>\n                    <tr>\n                        <th colspan=\"2\">\n                        Could not create model:\n                        </th>\n                    </tr>\n                </thead>\n                <tbody>\n                    <tr>\n                        <td>Model name</td>\n                        <td> undefined </td>\n                    </tr>\n                    <tr>\n                        <td>Model module</td>\n                        <td> undefined </td>\n                    </tr>\n                    <tr>\n                        <td>Model module version</td>\n                        <td> undefined </td>\n                    </tr>\n                <tbody>\n                <tfoot>\n                    <tr>\n                        <th colspan=\"2\">\n                        Class undefined not found in registry \n                        </th>\n                    </tr>\n                </tfoot>\n                </table>"
      }
     },
     "e80d58cb081a44cc8c5e1ed1307f05c9": {
      "model_module_version": "^2.1.4",
      "state": {
       "value": "<table style=\"width:100%\">\n                <thead>\n                    <tr>\n                        <th colspan=\"2\">\n                        Could not create model:\n                        </th>\n                    </tr>\n                </thead>\n                <tbody>\n                    <tr>\n                        <td>Model name</td>\n                        <td> undefined </td>\n                    </tr>\n                    <tr>\n                        <td>Model module</td>\n                        <td> undefined </td>\n                    </tr>\n                    <tr>\n                        <td>Model module version</td>\n                        <td> undefined </td>\n                    </tr>\n                <tbody>\n                <tfoot>\n                    <tr>\n                        <th colspan=\"2\">\n                        Class undefined not found in registry \n                        </th>\n                    </tr>\n                </tfoot>\n                </table>"
      }
     },
     "eb84007c40c1481cb73f9fc4fc8a8750": {
      "model_module_version": "^2.1.4",
      "state": {
       "value": "<table style=\"width:100%\">\n                <thead>\n                    <tr>\n                        <th colspan=\"2\">\n                        Could not create model:\n                        </th>\n                    </tr>\n                </thead>\n                <tbody>\n                    <tr>\n                        <td>Model name</td>\n                        <td> undefined </td>\n                    </tr>\n                    <tr>\n                        <td>Model module</td>\n                        <td> undefined </td>\n                    </tr>\n                    <tr>\n                        <td>Model module version</td>\n                        <td> undefined </td>\n                    </tr>\n                <tbody>\n                <tfoot>\n                    <tr>\n                        <th colspan=\"2\">\n                        Class undefined not found in registry \n                        </th>\n                    </tr>\n                </tfoot>\n                </table>"
      }
     }
    },
    "version_major": 1,
    "version_minor": 0
   }
  }
 },
 "nbformat": 4,
 "nbformat_minor": 2
}
