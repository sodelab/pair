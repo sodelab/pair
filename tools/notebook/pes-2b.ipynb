{
 "cells": [
  {
   "cell_type": "markdown",
   "metadata": {},
   "source": [
    "<center><h2>Example 1: Calculate the potential energy surface </h2> </center> <br>\n",
    "---\n",
    "    \n",
    "    \n",
    "This notebook builds the potential energy surface (PES) of pairs of molecules along characteristic coordinates. N-dimensional scans can be performed and plotted to show the PES.<br>\n",
    "<br>\n",
    "\n",
    " <i>Author</i>: <a href=\"https://github.com/oosode\">Olaseni Sode</a> <br>\n",
    " <i>Created on</i>: June 1, 2018 <br>\n",
    " <i>Tags</i>: PES, electronic structure<br>"
   ]
  },
  {
   "cell_type": "markdown",
   "metadata": {},
   "source": [
    "# Contents\n",
    "\n",
    "---\n",
    "   - [0. Load imports](#0.-Load-imports)\n",
    "   - [1. Load dfk and functions](#1.-Load-dfk-and-functions)\n",
    "   - [2. Choose molecules](#2.-Choose-molecules)\n",
    "   - [3. Pick theory](#3.-Pick-theory)\n",
    "   - [4. Optimize monomers](#4.-Optimize-monomers)\n",
    "   - [5. Configure dimer](#5.-Configure-dimer)\n",
    "   - [6. Optimize dimer](#6.-Optimize-dimer)\n",
    "   - [7. Setup PES scan](#7.-Setup-scan)\n",
    "   - [8. PES scan](#8.-PES-scan)\n",
    "   - [9. Plot PES](#9.-Plot-PES)"
   ]
  },
  {
   "cell_type": "markdown",
   "metadata": {},
   "source": [
    "## 0. Load imports"
   ]
  },
  {
   "cell_type": "markdown",
   "metadata": {},
   "source": [
    "This cell imports the necessary modules. To execute a cell, click on it, then press <kbd>shift</kbd> + <kbd>enter</kbd>. (If you're new to the notebook environment, you may want to check out [this helpful cheat sheet](https://nbviewer.jupyter.org/github/jupyter/notebook/blob/master/docs/source/examples/Notebook/Notebook%20Basics.ipynb))."
   ]
  },
  {
   "cell_type": "code",
   "execution_count": null,
   "metadata": {},
   "outputs": [],
   "source": [
    "import os\n",
    "import sys\n",
    "import gc\n",
    "import parsl\n",
    "import py3Dmol\n",
    "import types\n",
    "\n",
    "import ipywidgets as widgets\n",
    "from subprocess import Popen, PIPE\n",
    "from parsl import *\n",
    "from math import *\n",
    "from copy import *\n",
    "#from molecule import *\n",
    "\n",
    "import numpy as np\n",
    "import matplotlib.pyplot as plt\n",
    "from mpl_toolkits.mplot3d import Axes3D\n",
    "\n",
    "import cirpy\n",
    "\n",
    "%matplotlib inline\n",
    "\n",
    "print(parsl.__version__)"
   ]
  },
  {
   "cell_type": "markdown",
   "metadata": {},
   "source": [
    "## 1. Load dfk and functions\n",
    "\n",
    "The following cells are used to load the data flow kernel need for parsl and the other necessary python functions needed to perform the potential energy surface scan. "
   ]
  },
  {
   "cell_type": "markdown",
   "metadata": {},
   "source": [
    "#### Load data flow kernel"
   ]
  },
  {
   "cell_type": "code",
   "execution_count": null,
   "metadata": {},
   "outputs": [],
   "source": [
    "from parsl.configs.local import localThreads\n",
    "\n",
    "config = {\n",
    "    \"sites\": [\n",
    "        {\n",
    "            \"site\": \"midway_ipp_multicore\",\n",
    "            \"auth\": {\n",
    "                \"channel\": \"local\",\n",
    "                \"hostname\": \"swift.rcc.uchicago.edu\",\n",
    "                \"scriptDir\": \"/scratch/midway2/{0}/parsl_scripts\".format('oosode')\n",
    "            },\n",
    "            \"execution\": {\n",
    "                \"executor\": \"ipp\", # remote executor\n",
    "                \"provider\": \"slurm\", \n",
    "                \"block\": {\n",
    "                    \"nodes\": 1, # nodes per block\n",
    "                    \"taskBlocks\": 1, # tasks per block\n",
    "                    #\"taskBlocks\":20, \n",
    "                    \"walltime\": \"00:05:00\",\n",
    "                    \"initBlocks\": 1,\n",
    "                    \"minBlocks\" : 1,\n",
    "                    \"maxBlocks\": 10,\n",
    "                    \"options\": {'partition' : 'westmere',\n",
    "                                'overrides' : 'source activate python36' }\n",
    "                }\n",
    "            }\n",
    "        }, \n",
    "        {\n",
    "            \"site\": \"midway_ipp_singlenode\",\n",
    "            \"auth\": {\n",
    "                \"channel\": \"local\",\n",
    "                \"hostname\": \"swift.rcc.uchicago.edu\",\n",
    "                \"scriptDir\": \"/scratch/midway2/{0}/parsl_scripts\".format('oosode')\n",
    "            },\n",
    "            \"execution\": {\n",
    "                \"executor\": \"ipp\", # remote executor\n",
    "                \"provider\": \"slurm\", \n",
    "                \"block\": {\n",
    "                    \"nodes\": 1, # nodes per block\n",
    "                    #\"taskBlocks\": 1, # tasks per block\n",
    "                    \"taskBlocks\":20, \n",
    "                    \"walltime\": \"00:15:00\",\n",
    "                    \"initBlocks\": 1,\n",
    "                    \"minBlocks\" : 1,\n",
    "                    \"maxBlocks\": 1,\n",
    "                    \"options\": {'partition' : 'westmere',\n",
    "                                'overrides' : 'source activate python36' }\n",
    "                }\n",
    "            }\n",
    "        }\n",
    "        \n",
    "    ],\n",
    "    \"globals\": {\n",
    "        \"lazyErrors\": True,\n",
    "    },\n",
    "    #\"controller\" : {'publicIp' : ''}\n",
    "}\n",
    "\n",
    "#dfk = DataFlowKernel(config=config)\n",
    "dfk = DataFlowKernel(config=localThreads)"
   ]
  },
  {
   "cell_type": "code",
   "execution_count": null,
   "metadata": {},
   "outputs": [],
   "source": [
    "import element\n",
    "\n",
    "class molecule:\n",
    "    def __init__(self,name,nmols):\n",
    "        print(\"Intialized new molecule class: %s\"%(name))\n",
    "        self.name = name\n",
    "        self.nmols = nmols\n",
    "        self.coord = []\n",
    "        self.mass = []\n",
    "        self.atom = []\n",
    "        self.frag = []\n",
    "\n",
    "        return\n",
    "\n",
    "    def resolve(self):\n",
    "        res=cirpy.resolve(self.name, 'xyz')\n",
    "        print(\"Resolved chemical identification of %s\"%(self.name))\n",
    "        r=res.split(\"\\n\")\n",
    "        self.natoms=int(r[0])\n",
    "        self.frag=[0]*self.natoms\n",
    "\n",
    "        for i,line in enumerate(r):\n",
    "            if i<=1:\n",
    "                continue\n",
    "            elif i<self.natoms+2:\n",
    "                tmp=[float(line.split()[1]),\n",
    "                     float(line.split()[2]),\n",
    "                     float(line.split()[3])]\n",
    "                self.coord.append(tmp)\n",
    "                self.atom.append(line.split()[0])\n",
    "                self.mass.append(element.ELEMENTS[self.atom[-1]].mass)\n",
    "            else:\n",
    "                continue\n",
    "        return\n",
    "    \n",
    "    def init_dimer(self,m1,m2):\n",
    "        \n",
    "        \n",
    "        self.name=m1.name+\"-\"+m2.name\n",
    "        self.nmols=2\n",
    "        self.coord=deepcopy(m1.coord)+deepcopy(m2.coord)\n",
    "        self.mass=deepcopy(m1.mass)+deepcopy(m2.mass)\n",
    "        self.natoms=m1.natoms+m2.natoms\n",
    "        self.atom=deepcopy(m1.atom)+deepcopy(m2.atom)\n",
    "        self.frag=[0]*m1.natoms+[1]*m2.natoms\n",
    "\n",
    "        return\n",
    "    \n",
    "    def xyz(self):\n",
    "        \n",
    "        string=\"%d\\n\\n\"%(self.natoms)\n",
    "        for c,coord in enumerate(self.coord):\n",
    "            string+=\"%-2s \"%(self.atom[c])\n",
    "            string+=\"%15.10f %15.10f %15.10f\\n\"%(coord[0],\n",
    "                                                 coord[1],\n",
    "                                                 coord[2])\n",
    "            \n",
    "        return string\n",
    "        \n",
    "    def print_xyz(self):\n",
    "        \n",
    "        string=\"%d\\n\\n\"%(self.natoms)\n",
    "        for c,coord in enumerate(self.coord):\n",
    "            string+=\"%-2s \"%(self.atom[c])\n",
    "            string+=\"%15.10f %15.10f %15.10f\\n\"%(coord[0],\n",
    "                                                 coord[1],\n",
    "                                                 coord[2])\n",
    "        print(string)\n",
    "        return\n",
    "    \n",
    "    def calculate_com(self):\n",
    "    \n",
    "        if self.nmols==1:\n",
    "            x=0.0\n",
    "            y=0.0\n",
    "            z=0.0\n",
    "\n",
    "            totalmass=0.0\n",
    "\n",
    "            for a,atom in enumerate(self.coord):\n",
    "\n",
    "                x+=atom[0]*self.mass[a]\n",
    "                y+=atom[1]*self.mass[a]\n",
    "                z+=atom[2]*self.mass[a]\n",
    "                totalmass+=self.mass[a]\n",
    "\n",
    "            x=x/totalmass\n",
    "            y=y/totalmass\n",
    "            z=z/totalmass\n",
    "\n",
    "            self.com=[x,y,z]\n",
    "\n",
    "        elif self.nmols==2:\n",
    "\n",
    "            x1=x2=0.0\n",
    "            y1=y2=0.0\n",
    "            z1=z2=0.0\n",
    "\n",
    "            totalmass1=totalmass2=0.0\n",
    "\n",
    "            for c,coord in enumerate(self.coord):\n",
    "\n",
    "                if self.frag[c]==0:\n",
    "                    x1+=coord[0]*self.mass[c]\n",
    "                    y1+=coord[1]*self.mass[c]\n",
    "                    z1+=coord[2]*self.mass[c]\n",
    "                    totalmass1+=self.mass[c]\n",
    "                elif self.frag[c]==1:\n",
    "                    x2+=coord[0]*self.mass[c]\n",
    "                    y2+=coord[1]*self.mass[c]\n",
    "                    z2+=coord[2]*self.mass[c]\n",
    "                    totalmass2+=self.mass[c]\n",
    "\n",
    "            x1=x1/totalmass1\n",
    "            y1=y1/totalmass1\n",
    "            z1=z1/totalmass1\n",
    "                   \n",
    "            x2=x2/totalmass2\n",
    "            y2=y2/totalmass2\n",
    "            z2=z2/totalmass2\n",
    "\n",
    "            self.com=[x1,y1,z1,x2,y2,z2]\n",
    "                   \n",
    "        return\n",
    "   \n",
    "    def calculate_vector(self):\n",
    "        \"\"\"Function to calculate normalized vector.\"\"\"\n",
    "\n",
    "        self.calculate_com()\n",
    "        \n",
    "        for l in range(3):\n",
    "            x=self.com[3]-self.com[0]\n",
    "            y=self.com[4]-self.com[1]\n",
    "            z=self.com[5]-self.com[2]\n",
    "            \n",
    "        norm=sqrt(x*x + y*y + z*z)\n",
    "        self.vector=[x/norm,y/norm,z/norm]\n",
    "        self.radius=norm\n",
    "        \n",
    "        return\n",
    "\n",
    "    \n",
    "    def center(self):\n",
    "\n",
    "        self.calculate_com()\n",
    "        f=self.frag\n",
    "                   \n",
    "        for c,coord in enumerate(self.coord):\n",
    "            coord[0]-=self.com[0+f[c]*3]\n",
    "            coord[1]-=self.com[1+f[c]*3]\n",
    "            coord[2]-=self.com[2+f[c]*3]         \n",
    "\n",
    "        return\n",
    "\n",
    "#     def rotate_theta(self,theta,mID):\n",
    "\n",
    "#         if mID!=0 and self.nmols==1:\n",
    "#             print(\"This is a single molecule. The molecule ID should be zero.\")  \n",
    "            \n",
    "#         for c,coord in enumerate(self.coord):\n",
    "            \n",
    "#             if self.frag[c]==mID:\n",
    "#                 x=coord[0]\n",
    "#                 y=coord[1]\n",
    "#                 z=coord[2]\n",
    "\n",
    "#                 r=sqrt(x*x + y*y + z*z)\n",
    "#                 if r<1.0e-10:\n",
    "#                     continue\n",
    "                    \n",
    "#                 #t=acos(z/r)\n",
    "#                 t=atan2(r,z)\n",
    "#                 print(t,t-radians(theta))\n",
    "#                 p=atan2(y,x)\n",
    "#                 print()\n",
    "#                 t+=radians(theta)\n",
    "\n",
    "#                 coord[0]=r*sin(t)*cos(p)\n",
    "#                 coord[1]=r*sin(t)*sin(p)\n",
    "#                 coord[2]=r*cos(t)\n",
    "\n",
    "#         return\n",
    "    \n",
    "#     def rotate_phi(self,phi,mID):\n",
    "        \n",
    "#         if mID!=0 and self.nmols==1:\n",
    "#             print(\"This is a single molecule. The molecule ID should be zero.\")  \n",
    "            \n",
    "#         for c,coord in enumerate(self.coord):\n",
    "            \n",
    "#             if self.frag[c]==mID:\n",
    "#                 x=coord[0]\n",
    "#                 y=coord[1]\n",
    "#                 z=coord[2]\n",
    "\n",
    "#                 r=sqrt(x*x + y*y + z*z)\n",
    "#                 if r<1.0e-10:\n",
    "#                     continue\n",
    "                    \n",
    "#                 #t=acos(z/r)\n",
    "#                 t=atan2(r,z)\n",
    "#                 p=atan2(y,x)\n",
    "#                 p+=radians(phi)\n",
    "\n",
    "#                 coord[0]=r*sin(t)*cos(p)\n",
    "#                 coord[1]=r*sin(t)*sin(p)\n",
    "#                 coord[2]=r*cos(t)\n",
    "\n",
    "#         return    \n",
    "    \n",
    "    def rotate(self,angle,axis,mID):\n",
    "        \"\"\"https://en.wikipedia.org/wiki/Rodrigues%27_rotation_formula\"\"\"\n",
    "        \n",
    "        if mID!=0 and self.nmols==1:\n",
    "            print(\"This is a single molecule. The molecule ID should be zero.\")  \n",
    "        \n",
    "        if axis==\"x\":\n",
    "            k=(1,0,0) #unit vector\n",
    "        elif axis==\"y\":\n",
    "            k=(0,1,0)\n",
    "        elif axis==\"z\":\n",
    "            k=(0,0,1)\n",
    "        else:\n",
    "            if isinstance(var, types.StringTypes) or len(axis)!=3:\n",
    "                 raise IOError(\"Unknown axis in rotate function.\")\n",
    "            else:\n",
    "                norm=np.linalg.norm(axis)\n",
    "                k=(axis[0]/norm,axis[1]/norm,axis[2]/norm)\n",
    "                \n",
    "        cosA=cos(radians(angle)) # cosine of angle\n",
    "        sinA=sin(radians(angle)) # sine of angle\n",
    "    \n",
    "        for c,coord in enumerate(self.coord):\n",
    "            \n",
    "            if self.frag[c]==mID:\n",
    "                \n",
    "                term0=[l*cosA for l in coord]\n",
    "                \n",
    "                kxv=np.cross(k,coord).tolist() # cross of k and v\n",
    "                term1=[l*sinA for l in kxv]\n",
    "                \n",
    "                kv=np.dot(k,coord).tolist()\n",
    "                term2=[l*(1-cosA)*kv for l in k]\n",
    "\n",
    "                for l in range(3):\n",
    "                    coord[l]=term0[l]+term1[l]+term2[l]\n",
    "\n",
    "        return        \n",
    "\n",
    "    def position(self,R,theta,phi):\n",
    "        \n",
    "        if self.nmols==1:\n",
    "            print(\"This is a single molecule. The `position_molecule` function is for dimers.\")        \n",
    "\n",
    "        x=R*sin(radians(theta))*cos(radians(phi))\n",
    "        y=R*sin(radians(theta))*sin(radians(phi))\n",
    "        z=R*cos(radians(theta))\n",
    "\n",
    "        for c,coord in enumerate(self.coord):\n",
    "            \n",
    "            if self.frag[c]==1:\n",
    "                coord[0]+=x\n",
    "                coord[1]+=y\n",
    "                coord[2]+=z\n",
    "\n",
    "        return    \n",
    "    \n",
    "    def setup_dimer(self):\n",
    "        \"\"\"This function that each monomer is initially at the origin, before\n",
    "        transformation.\"\"\"\n",
    "        \n",
    "        self.calculate_com()\n",
    "        #self.R=0.0 # initial dimer distance\n",
    "        #self.tv=[0.0]*3 # initial dimer vector\n",
    "        self.center()\n",
    "        return\n",
    "        \n",
    "    def transform_dimer(self,value,transform,unit,mID):\n",
    "        \"\"\"This function prepares the dimer according to the type and magnitude \n",
    "        of transformation. Since translations shift the dimer off the origin, this\n",
    "        operation is always perfomed last in the `set dimer` function.\"\"\"\n",
    "        \n",
    "        if transform==\"translation\": # make translational vector\n",
    "            self.radius=value\n",
    "            if unit==False:\n",
    "                pass\n",
    "            else:\n",
    "                self.vector=unit\n",
    "            \n",
    "        elif transform==\"angle\": # rotate molecules\n",
    "            \n",
    "            norm=np.linalg.norm(unit)\n",
    "            k=(unit[0]/norm,unit[1]/norm,unit[2]/norm)\n",
    "                \n",
    "            cosA=cos(radians(value)) # cosine of angle\n",
    "            sinA=sin(radians(value)) # sine of angle\n",
    "    \n",
    "            for c,coord in enumerate(self.coord):\n",
    "            \n",
    "                if self.frag[c]==mID:\n",
    "                \n",
    "                    term0=[l*cosA for l in coord]\n",
    "                \n",
    "                    kxv=np.cross(k,coord).tolist() # cross of k and v\n",
    "                    term1=[l*sinA for l in kxv]\n",
    "                \n",
    "                    kv=np.dot(k,coord).tolist()\n",
    "                    term2=[l*(1-cosA)*kv for l in k]\n",
    "\n",
    "                    for l in range(3):\n",
    "                        coord[l]=term0[l]+term1[l]+term2[l]\n",
    "            \n",
    "        else:\n",
    "            raise IOError(\"Unknown transformation.\")\n",
    "            \n",
    "        return\n",
    "            \n",
    "    def set_dimer(self):\n",
    "        \"\"\"\"\"\"\n",
    "        \n",
    "        for c,coord in enumerate(self.coord):\n",
    "            if self.frag[c]==1:\n",
    "                coord[0]+=self.vector[0]*self.radius\n",
    "                coord[1]+=self.vector[1]*self.radius\n",
    "                coord[2]+=self.vector[2]*self.radius\n",
    "                \n",
    "        return\n",
    "\n"
   ]
  },
  {
   "cell_type": "markdown",
   "metadata": {
    "collapsed": true
   },
   "source": [
    "#### Function to write electronic structure input files"
   ]
  },
  {
   "cell_type": "code",
   "execution_count": null,
   "metadata": {},
   "outputs": [],
   "source": [
    "def write_input(ID,mol,theory,basis,program,optimization,f12,cp):\n",
    "    \n",
    "    natoms=int(mol.natoms)\n",
    "    \n",
    "    if program==\"MOLPRO\":\n",
    "        \n",
    "        fout=open(\"%s.%06d.com\"%(\"molpro\",ID),\"w\")\n",
    "        fout.write(\"***, %s %s \\n\"%(mol.name,optimization))\n",
    "        fout.write(\"memory,100,M\\n\")\n",
    "        fout.write(\"geometry={\\n\")\n",
    "        \n",
    "        for i in range(natoms):\n",
    "\n",
    "            fout.write(\"%s%d \"%(mol.atom[i],i))\n",
    "            fout.write(\"%15.10f, %15.10f, %15.10f\"%(mol.coord[i][0],\\\n",
    "                                                    mol.coord[i][1],\\\n",
    "                                                    mol.coord[i][2]))\n",
    "            if i==natoms-1:\n",
    "                fout.write(\"}\\n\")\n",
    "            else:\n",
    "                fout.write(\"\\n\")\n",
    "\n",
    "        fout.write(\"basis=%s\"%(basis))\n",
    "        fout.write(\"\\n\")\n",
    "\n",
    "        if cp:\n",
    "            #This functionality doesn't exist yet.\n",
    "            pass\n",
    "        #    fout.write(\"text,cp calculation for %s %dmer_%i\\n\"%(name,m,n))\n",
    "        #    fout.write(\"dummy,\")\n",
    "        #    for i in range(atoms):\n",
    "        #        if molid[i] in dum:\n",
    "        #            tmp=index*atoms\n",
    "        #            fout.write(\"%s%d,\"%(names[tmp+i],i))\n",
    "        #            fout.write(\"\\n\")\n",
    "        #        else:\n",
    "        #            fout.write(\"text,calculation for %s %dmer\\n\"%(name,m))\n",
    "\n",
    "        if theory!=\"hf\":\n",
    "            fout.write(\"hf\\n\")\n",
    "            fout.write(\"%s\"%(theory))\n",
    "            if f12:\n",
    "                fout.write(\"-f12\\n\")\n",
    "            else:\n",
    "                fout.write(\"\\n\")\n",
    "        else:\n",
    "            fout.write(\"hf\\n\")\n",
    "            \n",
    "        if optimization==\"Minimum\":\n",
    "            fout.write(\"optg\\n\")\n",
    "            fout.write(\"maxit=50\\n\")\n",
    "        if optimization==\"Saddle\":\n",
    "            fout.write(\"optg\")\n",
    "\n",
    "        fout.write(\"e_mer=energy\\n\")\n",
    "        if (f12):\n",
    "            fout.write(\"e_mer_F12a=energy(1)\\n\")\n",
    "            fout.write(\"e_mer_F12b=energy(2)\\n\")\n",
    "        fout.write(\"\\n\")\n",
    "        fout.close()\n",
    "        return\n",
    "        \n",
    "    if program==\"NWChem\":\n",
    "        pass"
   ]
  },
  {
   "cell_type": "markdown",
   "metadata": {},
   "source": [
    "#### Function to run electronic structure program"
   ]
  },
  {
   "cell_type": "code",
   "execution_count": null,
   "metadata": {},
   "outputs": [],
   "source": [
    "@App('bash', dfk)\n",
    "def molpro(ID, outputs=[], stderr=None, stdout=None):\n",
    "    #return \"uname -a; /home/oosode/software/molpro-2015/bin/molpro.exe  molpro.{0:06d}.com\".format(ID)\n",
    "    return \"uname -a; /Users/oosode/Software/molpro-2015/bin/molpro.exe  molpro.{0:06d}.com\".format(ID)"
   ]
  },
  {
   "cell_type": "markdown",
   "metadata": {},
   "source": [
    "#### Function to read electronic structure ouptut"
   ]
  },
  {
   "cell_type": "code",
   "execution_count": null,
   "metadata": {},
   "outputs": [],
   "source": [
    "def read_output(ID,program,mol):\n",
    "    \n",
    "    energy={}\n",
    "    \n",
    "    if program==\"MOLPRO\": \n",
    "        \n",
    "        c=False\n",
    "        fout=\"molpro.%06d.out\"%(ID)\n",
    "        if not os.path.isfile(fout):\n",
    "            raiseIOError(\"No file for molpro.%06d.com\"%(ID))\n",
    "\n",
    "        else:\n",
    "            fl=open(fout).readlines()\n",
    "\n",
    "            for l in range(len(fl)-1,len(fl)-5,-1):\n",
    "                if fl[l].find(\"Variable memory released\")>=0:\n",
    "                    c=True\n",
    "                    break\n",
    "\n",
    "            if (not c):\n",
    "                energy[0]=\"inf\"\n",
    "                print(\"No energies for file molpro.%06d.com\"%(ID))\n",
    "                return\n",
    "\n",
    "            else:\n",
    "                for l,line in enumerate(fl):\n",
    "                    if line.find(\"SETTING E_MER \")>=0: # energy\n",
    "                        #print(\"hello\")\n",
    "                        energy['simple']=float(line.strip().split()[-2].replace(\"D\",\"E\"))\n",
    "                    \n",
    "                        mol.energy=energy\n",
    "                        #print(mol['energy'])\n",
    "                        \n",
    "                    #if line.find(\"SETTING E_MER_F12A \")>=0: # F12a energy\n",
    "                    #    energy['f12a']=float(line.strip().split()[-2].replace(\"D\",\"E\"))\n",
    "                    #    mol['energy']=energy\n",
    "                    #elif line.find(\"SETTING E_MER_F12B \")>=0: # F12b energy\n",
    "                    #    energy['f12b']=float(line.strip().split()[-2].replace(\"D\",\"E\"))\n",
    "                    #    mol['energy']=energy\n",
    "                    \n",
    "                    elif line.find(\"END OF GEOMETRY OPTIMIZATION.\")>=0:\n",
    "                        natoms=int(fl[l+4].split()[0])\n",
    "                        if natoms != mol.natoms:\n",
    "                            print(\"There is a mismatch in the number of atoms\")\n",
    "                        for n in range(natoms):\n",
    "                            for i in range(3):\n",
    "                                mol.coord[n][i]=float(fl[l+6+n].split()[i+1])\n",
    "                    \n",
    "            return\n"
   ]
  },
  {
   "cell_type": "markdown",
   "metadata": {},
   "source": [
    "#### Function to setup the PES scan."
   ]
  },
  {
   "cell_type": "code",
   "execution_count": null,
   "metadata": {},
   "outputs": [],
   "source": [
    "def PES_scan(dim,variables,nCUP):\n",
    "    \n",
    "    # do pes scan\n",
    "    sList = [] # list dimers to scan\n",
    "    \n",
    "    if nCUP==1:\n",
    "        for m in range(len(variables)):\n",
    "            \n",
    "            var0=deepcopy(variables[m])\n",
    "            \n",
    "            for v0 in iter(deepcopy(var0)):\n",
    "                \n",
    "                tmp=deepcopy(dim) # copy dimer\n",
    "                tmp.setup_dimer() \n",
    "                tmp.transform_dimer(v0,var0.name,var0.unit,var0.molID)\n",
    "                tmp.set_dimer()\n",
    "                sList.append(tmp)\n",
    "                \n",
    "    elif nCUP==2:\n",
    "        for m in range(len(variables)):\n",
    "            for n in range(m,len(variables)):\n",
    "                \n",
    "                var0=deepcopy(variables[m])\n",
    "                var1=deepcopy(variables[n])\n",
    "                \n",
    "                for v0 in iter(var0):\n",
    "                    for v1 in iter(var1):\n",
    "                        \n",
    "                        tmp=deepcopy(dim) # copy dimer\n",
    "                        tmp.setup_dimer() \n",
    "                        tmp.transform_dimer(v0,var0.name,var0.unit,var0.molID)\n",
    "                        tmp.transform_dimer(v1,var1.name,var0.unit,var1.molID)\n",
    "                        tmp.set_dimer()\n",
    "                        sList.append(tmp)\n",
    "    \n",
    "    else:\n",
    "        print(\"The coupling between variables (ncup) must be set to either 0 or 1.\")\n",
    "                \n",
    "    print(len(sList))      \n",
    "    return sList"
   ]
  },
  {
   "cell_type": "markdown",
   "metadata": {},
   "source": [
    "#### Class that defines the different variables."
   ]
  },
  {
   "cell_type": "code",
   "execution_count": null,
   "metadata": {},
   "outputs": [],
   "source": [
    "class Var:\n",
    "    def __init__(self,name,minimum,maximum,inc,unit,mID=1):\n",
    "        self.name=name\n",
    "        self.min=minimum\n",
    "        self.max=maximum\n",
    "        self.inc=inc\n",
    "        self.unit=unit\n",
    "        self.molID=mID\n",
    "        self.current=self.min\n",
    "        return\n",
    "        \n",
    "    def determine_range(self):\n",
    "        x=self.min\n",
    "        tmp=[]\n",
    "        while x<=self.max:\n",
    "            tmp.append(x)\n",
    "            x+=self.inc\n",
    "        self.ranges=tuple(tmp)\n",
    "        return\n",
    "    \n",
    "    def __iter__(self):\n",
    "        return self\n",
    "\n",
    "    def __next__(self):\n",
    "        if self.current > self.max:\n",
    "            raise StopIteration\n",
    "        else:\n",
    "            self.current += self.inc\n",
    "            return self.current - self.inc\n",
    "        "
   ]
  },
  {
   "cell_type": "markdown",
   "metadata": {},
   "source": [
    "## 2. Choose molecules\n",
    "\n",
    "The cells below allows you to pick the two types of molecules for the PES scan. It uses the cirpy module to resolve the name of the molecules and then loads the xyz coordinates and atom names into the `molecule` class. This class then configures the remaining values including atomic mass, number of atoms, etc. \n",
    "\n",
    "**NOTE:** You can change the molecule types from the default \"carbon dioxide\" to any other molecule in the chemical information resolver database. Just change the name below."
   ]
  },
  {
   "cell_type": "code",
   "execution_count": null,
   "metadata": {},
   "outputs": [],
   "source": [
    "mol0 = molecule(\"CO2\",1) # name and number of molecules\n",
    "mol0.resolve()\n",
    "\n",
    "mol1 = molecule(\"H2O\",1)\n",
    "mol1.resolve()\n",
    "\n",
    "mList = (mol0,mol1)"
   ]
  },
  {
   "cell_type": "code",
   "execution_count": null,
   "metadata": {},
   "outputs": [],
   "source": [
    "view0 = py3Dmol.view(width=800,height=400,linked=False,viewergrid=(1,2))\n",
    "#view0.removeAllModels(viewer=(0,0))\n",
    "view0.addModel(mol0.xyz(),'xyz',viewer=(0,0))\n",
    "view0.addModel(mol1.xyz(),'xyz',viewer=(0,1))\n",
    "view0.setStyle({'sphere':{}})\n",
    "view0.setBackgroundColor('0xeeeeee')\n",
    "view0.zoomTo(viewer=(0,0))\n",
    "#view0.render()\n",
    "view0.show()"
   ]
  },
  {
   "cell_type": "markdown",
   "metadata": {},
   "source": [
    "## 3. Pick theory\n",
    "\n",
    "The cells below allows you to choose the level of electronic structure theory, the basis set, the use of explicit correlation and the electronic structure program. (Currently, only the MOLPRO software package is implemented.) \n",
    "\n",
    "Some configurations of theory, basis set and programs are not possible. Once you have selected your program variables, make sure to check the configurations availability with the `wrapper.check()` function.\n"
   ]
  },
  {
   "cell_type": "code",
   "execution_count": null,
   "metadata": {},
   "outputs": [],
   "source": [
    "theory=\"HF\"\n",
    "basis=\"aug-cc-pVDZ\"\n",
    "f12=False\n",
    "program=\"MOLPRO\""
   ]
  },
  {
   "cell_type": "markdown",
   "metadata": {
    "collapsed": true
   },
   "source": [
    "## 4. Optimize monomers\n",
    "\n",
    "You can optimize the two monomers in the cells below. In the first cell, the input files are written. The second cell submits the input files and waits for them to finish. The last cell parses the output file and recovers the data. When running jobs on a compute cluster, the status of the job can be checked using the `qstat` command. The final energy and cartesian coordinates of the geometry are printed. "
   ]
  },
  {
   "cell_type": "markdown",
   "metadata": {},
   "source": [
    "**Write input files**:"
   ]
  },
  {
   "cell_type": "code",
   "execution_count": null,
   "metadata": {},
   "outputs": [],
   "source": [
    "for ID in range(2):\n",
    "    write_input(ID,mList[ID],theory,basis,program,\"Minimum\",f12,False)"
   ]
  },
  {
   "cell_type": "markdown",
   "metadata": {},
   "source": [
    "**Run calculations**:"
   ]
  },
  {
   "cell_type": "code",
   "execution_count": null,
   "metadata": {},
   "outputs": [],
   "source": [
    "futures=[]\n",
    "for ID in range(2):\n",
    "    #run_input(ID,program)\n",
    "    out=\"molpro.%06d.out\"%(ID)\n",
    "    xml=\"molpro.%06d.xml\"%(ID)\n",
    "    futures.append(molpro(ID, outputs=[out,xml]))\n",
    "\n",
    "\n",
    "print([x.result() for x in futures]) "
   ]
  },
  {
   "cell_type": "markdown",
   "metadata": {},
   "source": [
    "**Check status**:"
   ]
  },
  {
   "cell_type": "code",
   "execution_count": null,
   "metadata": {
    "scrolled": true
   },
   "outputs": [],
   "source": [
    "#!qstat -u $USER\n",
    "!ls -lt | head -10\n",
    "#!tail molpro.000000.out"
   ]
  },
  {
   "cell_type": "markdown",
   "metadata": {},
   "source": [
    "**Read output**:"
   ]
  },
  {
   "cell_type": "code",
   "execution_count": null,
   "metadata": {},
   "outputs": [],
   "source": [
    "for ID in range(2):\n",
    "    read_output(ID,program,mList[ID])"
   ]
  },
  {
   "cell_type": "markdown",
   "metadata": {
    "collapsed": true
   },
   "source": [
    "## 5. Configure dimer position\n",
    "\n",
    "Once the isolated monomers are obtained (and optimized), the next step is to orient them with respect to one another. This is done using a spherical coordinate space, shown below. The __orientation of molecule 1__ and the __orientation of molecule 2__ are determined first, followed by the __position__ of molecule 2 relative to molecule 1. \n",
    "\n",
    "Molecule 1 is always placed at the origin (0,0,0) oriented in space with $\\theta_1$ and $\\phi_1$. The range of $\\theta_1$ is [0°, 180°] and the range of $\\phi_1$ is [0, 360°). Molecule 2 is placed using spherical coordinates at some distance R from the origin, with $\\theta_d$ and $\\phi_d$ ranging from [0°, 180°] and [0, 360°), respectively. The orientation of Molecule 2 is denoted by $\\theta_2$ and $\\phi_2$ values. All angles are in degree units and distances are in angstroms.\n",
    "\n",
    "<img src='https://upload.wikimedia.org/wikipedia/commons/4/4f/3D_Spherical.svg' style=\"width: 300px;\">\n",
    "\n",
    "The molecules are oriented such that the x-axis runs horizontally across the screen, the y-axis runs vertically, and the z-axis emerges from the plane of the computer screen."
   ]
  },
  {
   "cell_type": "markdown",
   "metadata": {},
   "source": [
    "#### Orientation and position molecules"
   ]
  },
  {
   "cell_type": "code",
   "execution_count": null,
   "metadata": {},
   "outputs": [],
   "source": [
    "# orientation of molecule 1\n",
    "x1_rotation = 0\n",
    "y1_rotation = 90\n",
    "z1_rotation = 0\n",
    "\n",
    "# orientation of molecule 2\n",
    "x2_rotation = 0\n",
    "y2_rotation = 135\n",
    "z2_rotation = 0\n",
    "\n",
    "# make monomer list\n",
    "xList = (x1_rotation,x2_rotation)\n",
    "yList = (y1_rotation,y2_rotation)\n",
    "zList = (z1_rotation,z2_rotation)\n",
    "\n",
    "# position molecule 2\n",
    "R = 4.0\n",
    "theta_d = 90\n",
    "phi_d = -90"
   ]
  },
  {
   "cell_type": "markdown",
   "metadata": {},
   "source": [
    "#### Orient dimer"
   ]
  },
  {
   "cell_type": "code",
   "execution_count": null,
   "metadata": {},
   "outputs": [],
   "source": [
    "tmp_mList=[]\n",
    "for i,m in enumerate(mList):\n",
    "    \n",
    "    tmp_m = deepcopy(m)\n",
    "    tmp_m.calculate_com()\n",
    "    tmp_m.center()\n",
    "    tmp_m.rotate(xList[i],\"x\",0)\n",
    "    tmp_m.rotate(yList[i],\"y\",0)\n",
    "    tmp_m.rotate(zList[i],\"z\",0)\n",
    "    tmp_mList.append(tmp_m)\n",
    "\n",
    "dimer=molecule(\"whatever\",1)\n",
    "dimer.init_dimer(tmp_mList[0],tmp_mList[1])\n",
    "dimer.position(R,theta_d,phi_d)\n",
    "dimer.calculate_vector()\n"
   ]
  },
  {
   "cell_type": "markdown",
   "metadata": {},
   "source": [
    "#### Show dimer"
   ]
  },
  {
   "cell_type": "code",
   "execution_count": null,
   "metadata": {
    "scrolled": true
   },
   "outputs": [],
   "source": [
    "view1 = py3Dmol.view(width=800,height=300)\n",
    "view1.addModel(dimer.xyz(),'xyz')\n",
    "view1.setStyle({'stick':{}})\n",
    "view1.setBackgroundColor('0xeeeeee')\n",
    "view1.show()"
   ]
  },
  {
   "cell_type": "markdown",
   "metadata": {},
   "source": [
    "If you are unhappy with the orientation of the dimer, you may return to the `Orientation and position of molecules` cell and adjust the angles and radial distances to your liking. Also, one should consider optimizing the dimer to either a local minimum or saddle point in the following cell."
   ]
  },
  {
   "cell_type": "markdown",
   "metadata": {
    "collapsed": true
   },
   "source": [
    "## 6. Optimize dimer structure\n",
    "\n",
    "The dimer structure can be optimized such that any potential energy scan originates from either a global or local minimum, or a saddle point. To optimize to a minimum, set the optimization flag to `Minimum`, and to optimize to a saddle point, set the optimization variable to `Saddle`. If you prefer not to optimize the dimer further, specify `None`.\n",
    "\n"
   ]
  },
  {
   "cell_type": "code",
   "execution_count": null,
   "metadata": {},
   "outputs": [],
   "source": [
    "optimization=\"None\""
   ]
  },
  {
   "cell_type": "code",
   "execution_count": null,
   "metadata": {},
   "outputs": [],
   "source": [
    "if optimization==\"None\":\n",
    "    pass\n",
    "\n",
    "elif optimization==\"Minimum\" or \"Saddle\":\n",
    "    write_input(3,dim,theory,basis,program,optimization,f12,False)\n",
    "    fut = molpro(3, outputs=[\"molpro.%06d.out\"%(3), \"molpro.%06d.xml\"%(3)],\n",
    "                     stdout=\"molpro.%06d.stdout\"%(3),\n",
    "                     stderr=\"molpro.%06d.stderr\"%(3))\n",
    "    read_output(3,program)\n",
    "    \n",
    "else:\n",
    "    raise IOError(\"Unknown optimization.\")"
   ]
  },
  {
   "cell_type": "markdown",
   "metadata": {},
   "source": [
    "## 7. Setup scan\n",
    "\n",
    "The potential energy surface will be scanned along some characteristic coordinate(s). There is no limit to the number coordinates to scan however, the maximum coupling between coordinates is 2. Some examples of coordinates include the 'R' distance, the $\\phi_1$ angle or the $\\theta_d$ angle. For each coordinate, the range of values and the increment must be specified. Increments for distances are in angstroms and are in degrees for angles. "
   ]
  },
  {
   "cell_type": "markdown",
   "metadata": {},
   "source": [
    "**Which variables?**"
   ]
  },
  {
   "cell_type": "code",
   "execution_count": null,
   "metadata": {},
   "outputs": [],
   "source": [
    "variables=[]\n",
    "\n",
    "Rname = 'translation'\n",
    "Rmini = 2.0\n",
    "Rmaxi = 8.0\n",
    "Rincr = 0.1\n",
    "Runit = False # scan along what vector from molecule 1. False is distance vector\n",
    "RID = 1 # this value should always be one for translations\n",
    "\n",
    "var1=Var(Rname,Rmini,Rmaxi,Rincr,Runit,1)\n",
    "var1.determine_range()\n",
    "#variables.append(var1)\n",
    "\n",
    "Aname = 'angle'\n",
    "Amini = -90.0\n",
    "Amaxi =  90.0\n",
    "Aincr =  10.0\n",
    "Aunit = (1,0,0) # rotate about what axis \n",
    "AID = 0\n",
    "\n",
    "var2=Var(Aname,Amini,Amaxi,Aincr,Aunit,AID)\n",
    "var2.determine_range()\n",
    "variables.append(var2)"
   ]
  },
  {
   "cell_type": "markdown",
   "metadata": {},
   "source": [
    "**number of variable coupling?**"
   ]
  },
  {
   "cell_type": "code",
   "execution_count": null,
   "metadata": {},
   "outputs": [],
   "source": [
    "nCUP=1"
   ]
  },
  {
   "cell_type": "markdown",
   "metadata": {},
   "source": [
    "## 8. PES scan\n",
    "\n",
    "Once the scan variables are determined, proceed through the next cells to perform electronic structure calculations on each of the dimer configurations."
   ]
  },
  {
   "cell_type": "markdown",
   "metadata": {},
   "source": [
    "#### Determine dimer configurations\n",
    "\n",
    "This also prints the number of configurations to evaluate."
   ]
  },
  {
   "cell_type": "code",
   "execution_count": null,
   "metadata": {},
   "outputs": [],
   "source": [
    "dimer_scans=PES_scan(dimer,variables,nCUP)"
   ]
  },
  {
   "cell_type": "markdown",
   "metadata": {},
   "source": [
    "#### Write scan input files"
   ]
  },
  {
   "cell_type": "code",
   "execution_count": null,
   "metadata": {},
   "outputs": [],
   "source": [
    "for k,dscan in enumerate(dimer_scans): # loop over monomers\n",
    "    write_input(k+3,dscan,theory,basis,program,\"None\",f12,False)"
   ]
  },
  {
   "cell_type": "markdown",
   "metadata": {},
   "source": [
    "#### Run calculations"
   ]
  },
  {
   "cell_type": "code",
   "execution_count": null,
   "metadata": {},
   "outputs": [],
   "source": [
    "futures=[]\n",
    "for k in range(len(dimer_scans)):\n",
    "    #run_input(k+3,program)\n",
    "    out=\"molpro.%06d.out\"%(k+3)\n",
    "    xml=\"molpro.%06d.xml\"%(k+3)\n",
    "    futures.append(molpro(k+3, outputs=[out,xml]))\n",
    "\n",
    "print([x.result() for x in futures]) "
   ]
  },
  {
   "cell_type": "code",
   "execution_count": null,
   "metadata": {},
   "outputs": [],
   "source": [
    "#!qstat -u $USER\n",
    "! ls -lt | head -10\n"
   ]
  },
  {
   "cell_type": "markdown",
   "metadata": {},
   "source": [
    "#### Read outputs and collect energies"
   ]
  },
  {
   "cell_type": "code",
   "execution_count": null,
   "metadata": {},
   "outputs": [],
   "source": [
    "x=[]\n",
    "nrg=[]\n",
    "for k,dscan in enumerate(dimer_scans): # loop over dimers\n",
    "    read_output(k+3,program,dscan)\n",
    "    nrg.append(dscan.energy['simple'])\n"
   ]
  },
  {
   "cell_type": "markdown",
   "metadata": {},
   "source": [
    "## 9. Plot PES\n",
    "\n"
   ]
  },
  {
   "cell_type": "code",
   "execution_count": null,
   "metadata": {},
   "outputs": [],
   "source": [
    "%matplotlib inline\n",
    "plt.figure()\n",
    "plt.title(\"Dimer energies\", size='xx-large')\n",
    "plt.ylabel(\"total energy / hartrees\", size='x-large')\n",
    "plt.ylim([-263.71,-263.70])\n",
    "plt.plot(variables[0].ranges,nrg)"
   ]
  },
  {
   "cell_type": "code",
   "execution_count": null,
   "metadata": {},
   "outputs": [],
   "source": []
  }
 ],
 "metadata": {
  "kernelspec": {
   "display_name": "Python3.6",
   "language": "python",
   "name": "python36"
  },
  "language_info": {
   "codemirror_mode": {
    "name": "ipython",
    "version": 3
   },
   "file_extension": ".py",
   "mimetype": "text/x-python",
   "name": "python",
   "nbconvert_exporter": "python",
   "pygments_lexer": "ipython3",
   "version": "3.6.5"
  },
  "widgets": {
   "application/vnd.jupyter.widget-state+json": {
    "state": {
     "3624da04d68a4aa2a25d360e738763af": {
      "model_module_version": "^2.1.4",
      "state": {
       "value": "<table style=\"width:100%\">\n                <thead>\n                    <tr>\n                        <th colspan=\"2\">\n                        Could not create model:\n                        </th>\n                    </tr>\n                </thead>\n                <tbody>\n                    <tr>\n                        <td>Model name</td>\n                        <td> undefined </td>\n                    </tr>\n                    <tr>\n                        <td>Model module</td>\n                        <td> undefined </td>\n                    </tr>\n                    <tr>\n                        <td>Model module version</td>\n                        <td> undefined </td>\n                    </tr>\n                <tbody>\n                <tfoot>\n                    <tr>\n                        <th colspan=\"2\">\n                        Class undefined not found in registry \n                        </th>\n                    </tr>\n                </tfoot>\n                </table>"
      }
     },
     "8de269a0d31c4de38704899b4b8c9dc6": {
      "model_module_version": "^2.1.4",
      "state": {
       "description": "x",
       "value": "<table style=\"width:100%\">\n                <thead>\n                    <tr>\n                        <th colspan=\"2\">\n                        Could not create model:\n                        </th>\n                    </tr>\n                </thead>\n                <tbody>\n                    <tr>\n                        <td>Model name</td>\n                        <td> undefined </td>\n                    </tr>\n                    <tr>\n                        <td>Model module</td>\n                        <td> undefined </td>\n                    </tr>\n                    <tr>\n                        <td>Model module version</td>\n                        <td> undefined </td>\n                    </tr>\n                <tbody>\n                <tfoot>\n                    <tr>\n                        <th colspan=\"2\">\n                        Class undefined not found in registry \n                        </th>\n                    </tr>\n                </tfoot>\n                </table>"
      }
     },
     "9593ab0cdd0f4e34ade7d793a0008e4c": {
      "model_module_version": "^2.1.4",
      "state": {
       "msg_id": "",
       "value": "<table style=\"width:100%\">\n                <thead>\n                    <tr>\n                        <th colspan=\"2\">\n                        Could not create model:\n                        </th>\n                    </tr>\n                </thead>\n                <tbody>\n                    <tr>\n                        <td>Model name</td>\n                        <td> undefined </td>\n                    </tr>\n                    <tr>\n                        <td>Model module</td>\n                        <td> undefined </td>\n                    </tr>\n                    <tr>\n                        <td>Model module version</td>\n                        <td> undefined </td>\n                    </tr>\n                <tbody>\n                <tfoot>\n                    <tr>\n                        <th colspan=\"2\">\n                        Class undefined not found in registry \n                        </th>\n                    </tr>\n                </tfoot>\n                </table>"
      }
     },
     "9ff03ac7a9eb44a28ee4dfef5292f36f": {
      "model_module_version": "^2.1.4",
      "state": {
       "value": "<table style=\"width:100%\">\n                <thead>\n                    <tr>\n                        <th colspan=\"2\">\n                        Could not create model:\n                        </th>\n                    </tr>\n                </thead>\n                <tbody>\n                    <tr>\n                        <td>Model name</td>\n                        <td> undefined </td>\n                    </tr>\n                    <tr>\n                        <td>Model module</td>\n                        <td> undefined </td>\n                    </tr>\n                    <tr>\n                        <td>Model module version</td>\n                        <td> undefined </td>\n                    </tr>\n                <tbody>\n                <tfoot>\n                    <tr>\n                        <th colspan=\"2\">\n                        Class undefined not found in registry \n                        </th>\n                    </tr>\n                </tfoot>\n                </table>"
      }
     },
     "a94d2ce0839e41b192de5aa27fedfc8d": {
      "model_module_version": "^2.1.4",
      "state": {
       "children": [
        "IPY_MODEL_8de269a0d31c4de38704899b4b8c9dc6",
        "IPY_MODEL_9593ab0cdd0f4e34ade7d793a0008e4c"
       ],
       "value": "<table style=\"width:100%\">\n                <thead>\n                    <tr>\n                        <th colspan=\"2\">\n                        Could not create model:\n                        </th>\n                    </tr>\n                </thead>\n                <tbody>\n                    <tr>\n                        <td>Model name</td>\n                        <td> undefined </td>\n                    </tr>\n                    <tr>\n                        <td>Model module</td>\n                        <td> undefined </td>\n                    </tr>\n                    <tr>\n                        <td>Model module version</td>\n                        <td> undefined </td>\n                    </tr>\n                <tbody>\n                <tfoot>\n                    <tr>\n                        <th colspan=\"2\">\n                        Class undefined not found in registry \n                        </th>\n                    </tr>\n                </tfoot>\n                </table>"
      }
     },
     "b12a22f97fe04799a0f131e5f8c0c738": {
      "model_module_version": "^2.1.4",
      "state": {
       "value": "<table style=\"width:100%\">\n                <thead>\n                    <tr>\n                        <th colspan=\"2\">\n                        Could not create model:\n                        </th>\n                    </tr>\n                </thead>\n                <tbody>\n                    <tr>\n                        <td>Model name</td>\n                        <td> undefined </td>\n                    </tr>\n                    <tr>\n                        <td>Model module</td>\n                        <td> undefined </td>\n                    </tr>\n                    <tr>\n                        <td>Model module version</td>\n                        <td> undefined </td>\n                    </tr>\n                <tbody>\n                <tfoot>\n                    <tr>\n                        <th colspan=\"2\">\n                        Class undefined not found in registry \n                        </th>\n                    </tr>\n                </tfoot>\n                </table>"
      }
     },
     "d7dc9890a6044ac58f3caab9117d7c62": {
      "model_module_version": "^2.1.4",
      "state": {
       "value": "<table style=\"width:100%\">\n                <thead>\n                    <tr>\n                        <th colspan=\"2\">\n                        Could not create model:\n                        </th>\n                    </tr>\n                </thead>\n                <tbody>\n                    <tr>\n                        <td>Model name</td>\n                        <td> undefined </td>\n                    </tr>\n                    <tr>\n                        <td>Model module</td>\n                        <td> undefined </td>\n                    </tr>\n                    <tr>\n                        <td>Model module version</td>\n                        <td> undefined </td>\n                    </tr>\n                <tbody>\n                <tfoot>\n                    <tr>\n                        <th colspan=\"2\">\n                        Class undefined not found in registry \n                        </th>\n                    </tr>\n                </tfoot>\n                </table>"
      }
     },
     "e11546946bf44f93b1dba17844cf4fdb": {
      "model_module_version": "^2.1.4",
      "state": {
       "value": "<table style=\"width:100%\">\n                <thead>\n                    <tr>\n                        <th colspan=\"2\">\n                        Could not create model:\n                        </th>\n                    </tr>\n                </thead>\n                <tbody>\n                    <tr>\n                        <td>Model name</td>\n                        <td> undefined </td>\n                    </tr>\n                    <tr>\n                        <td>Model module</td>\n                        <td> undefined </td>\n                    </tr>\n                    <tr>\n                        <td>Model module version</td>\n                        <td> undefined </td>\n                    </tr>\n                <tbody>\n                <tfoot>\n                    <tr>\n                        <th colspan=\"2\">\n                        Class undefined not found in registry \n                        </th>\n                    </tr>\n                </tfoot>\n                </table>"
      }
     },
     "e80d58cb081a44cc8c5e1ed1307f05c9": {
      "model_module_version": "^2.1.4",
      "state": {
       "value": "<table style=\"width:100%\">\n                <thead>\n                    <tr>\n                        <th colspan=\"2\">\n                        Could not create model:\n                        </th>\n                    </tr>\n                </thead>\n                <tbody>\n                    <tr>\n                        <td>Model name</td>\n                        <td> undefined </td>\n                    </tr>\n                    <tr>\n                        <td>Model module</td>\n                        <td> undefined </td>\n                    </tr>\n                    <tr>\n                        <td>Model module version</td>\n                        <td> undefined </td>\n                    </tr>\n                <tbody>\n                <tfoot>\n                    <tr>\n                        <th colspan=\"2\">\n                        Class undefined not found in registry \n                        </th>\n                    </tr>\n                </tfoot>\n                </table>"
      }
     },
     "eb84007c40c1481cb73f9fc4fc8a8750": {
      "model_module_version": "^2.1.4",
      "state": {
       "value": "<table style=\"width:100%\">\n                <thead>\n                    <tr>\n                        <th colspan=\"2\">\n                        Could not create model:\n                        </th>\n                    </tr>\n                </thead>\n                <tbody>\n                    <tr>\n                        <td>Model name</td>\n                        <td> undefined </td>\n                    </tr>\n                    <tr>\n                        <td>Model module</td>\n                        <td> undefined </td>\n                    </tr>\n                    <tr>\n                        <td>Model module version</td>\n                        <td> undefined </td>\n                    </tr>\n                <tbody>\n                <tfoot>\n                    <tr>\n                        <th colspan=\"2\">\n                        Class undefined not found in registry \n                        </th>\n                    </tr>\n                </tfoot>\n                </table>"
      }
     }
    },
    "version_major": 1,
    "version_minor": 0
   }
  }
 },
 "nbformat": 4,
 "nbformat_minor": 2
}
