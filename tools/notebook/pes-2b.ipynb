{
 "cells": [
  {
   "cell_type": "markdown",
   "metadata": {},
   "source": [
    "<center><h2>Example 1: Calculate the potential energy surface </h2> </center> <br>\n",
    "---\n",
    "    \n",
    "    \n",
    "This notebook builds the potential energy surface (PES) of pairs of molecules along characteristic coordinates. N-dimensional scans can be performed and plotted to show the PES.<br>\n",
    "<br>\n",
    "\n",
    " <i>Author</i>: <a href=\"https://github.com/oosode\">Olaseni Sode</a> <br>\n",
    " <i>Created on</i>: June 1, 2018 <br>\n",
    " <i>Tags</i>: PES, electronic structure<br>"
   ]
  },
  {
   "cell_type": "markdown",
   "metadata": {},
   "source": [
    "# Contents\n",
    "\n",
    "---\n",
    "   - [0. Load imports](#0.-Load-imports)\n",
    "   - [1. Load dfk and functions](#1.-Load-dfk-and-functions)\n",
    "   - [2. Choose molecules](#2.-Choose-molecules)\n",
    "   - [3. Pick theory](#3.-Pick-theory)\n",
    "   - [4. Optimize monomers](#4.-Optimize-monomers)\n",
    "   - [5. Configure dimer](#5.-Configure-dimer)\n",
    "   - [6. Optimize dimer](#6.-Optimize-dimer)\n",
    "   - [7. Setup PES scan](#7.-Setup-scan)\n",
    "   - [8. PES scan](#8.-PES-scan)\n",
    "   - [9. Plot PES](#9.-Plot-PES)"
   ]
  },
  {
   "cell_type": "markdown",
   "metadata": {},
   "source": [
    "## 0. Load imports"
   ]
  },
  {
   "cell_type": "markdown",
   "metadata": {},
   "source": [
    "This cell imports the necessary modules. To execute a cell, click on it, then press <kbd>shift</kbd> + <kbd>enter</kbd>. (If you're new to the notebook environment, you may want to check out [this helpful cheat sheet](https://nbviewer.jupyter.org/github/jupyter/notebook/blob/master/docs/source/examples/Notebook/Notebook%20Basics.ipynb))."
   ]
  },
  {
   "cell_type": "code",
   "execution_count": 1,
   "metadata": {},
   "outputs": [],
   "source": [
    "import os\n",
    "import sys\n",
    "import gc\n",
    "import py3Dmol\n",
    "\n",
    "\n",
    "import ipywidgets as widgets\n",
    "from subprocess import Popen, PIPE\n",
    "from parsl import *\n",
    "from math import *\n",
    "from copy import *\n",
    "from molecule import *\n",
    "\n",
    "import numpy as np\n",
    "import matplotlib.pyplot as plt\n",
    "from mpl_toolkits.mplot3d import Axes3D\n",
    "\n",
    "import cirpy\n",
    "\n",
    "%matplotlib inline\n",
    "\n",
    "#set plot sizes\n",
    "#plt.rcParams['figure.figsize'] = (10, 20)  # (width, height)\n",
    "#plt.rcParams['font.size'] = 20\n",
    "#plt.rcParams['legend.fontsize'] = 16"
   ]
  },
  {
   "cell_type": "markdown",
   "metadata": {},
   "source": [
    "## 1. Load dfk and functions\n",
    "\n",
    "The following cells are used to load the data flow kernel need for parsl and the other necessary python functions needed to perform the potential energy surface scan. "
   ]
  },
  {
   "cell_type": "markdown",
   "metadata": {},
   "source": [
    "#### Load data flow kernel"
   ]
  },
  {
   "cell_type": "code",
   "execution_count": 2,
   "metadata": {},
   "outputs": [],
   "source": [
    "from parsl.configs.local import localThreads\n",
    "\n",
    "config = {\n",
    "    \"sites\": [\n",
    "        {\n",
    "            \"site\": \"midway_ipp_multicore\",\n",
    "            \"auth\": {\n",
    "                \"channel\": \"local\",\n",
    "                \"hostname\": \"swift.rcc.uchicago.edu\",\n",
    "                \"scriptDir\": \"/scratch/midway2/{0}/parsl_scripts\".format('oosode')\n",
    "            },\n",
    "            \"execution\": {\n",
    "                \"executor\": \"ipp\", # remote executor\n",
    "                \"provider\": \"slurm\", \n",
    "                \"block\": {\n",
    "                    \"nodes\": 1, # nodes per block\n",
    "                    \"taskBlocks\": 1, # tasks per block\n",
    "                    #\"taskBlocks\":20, \n",
    "                    \"walltime\": \"00:05:00\",\n",
    "                    \"initBlocks\": 1,\n",
    "                    \"minBlocks\" : 1,\n",
    "                    \"maxBlocks\": 10,\n",
    "                    \"options\": {'partition' : 'westmere',\n",
    "                                'overrides' : 'source activate python36' }\n",
    "                }\n",
    "            }\n",
    "        }, \n",
    "        {\n",
    "            \"site\": \"midway_ipp_singlenode\",\n",
    "            \"auth\": {\n",
    "                \"channel\": \"local\",\n",
    "                \"hostname\": \"swift.rcc.uchicago.edu\",\n",
    "                \"scriptDir\": \"/scratch/midway2/{0}/parsl_scripts\".format('oosode')\n",
    "            },\n",
    "            \"execution\": {\n",
    "                \"executor\": \"ipp\", # remote executor\n",
    "                \"provider\": \"slurm\", \n",
    "                \"block\": {\n",
    "                    \"nodes\": 1, # nodes per block\n",
    "                    #\"taskBlocks\": 1, # tasks per block\n",
    "                    \"taskBlocks\":20, \n",
    "                    \"walltime\": \"00:15:00\",\n",
    "                    \"initBlocks\": 1,\n",
    "                    \"minBlocks\" : 1,\n",
    "                    \"maxBlocks\": 1,\n",
    "                    \"options\": {'partition' : 'westmere',\n",
    "                                'overrides' : 'source activate python36' }\n",
    "                }\n",
    "            }\n",
    "        }\n",
    "        \n",
    "    ],\n",
    "    \"globals\": {\n",
    "        \"lazyErrors\": True,\n",
    "    },\n",
    "    #\"controller\" : {'publicIp' : ''}\n",
    "}\n",
    "\n",
    "#dfk = DataFlowKernel(config=config)\n",
    "dfk = DataFlowKernel(config=localThreads)"
   ]
  },
  {
   "cell_type": "markdown",
   "metadata": {
    "collapsed": true
   },
   "source": [
    "#### Function to write electronic structure input files"
   ]
  },
  {
   "cell_type": "code",
   "execution_count": 3,
   "metadata": {},
   "outputs": [],
   "source": [
    "def write_input(ID,mol,theory,basis,program,optimization,f12,cp):\n",
    "    \n",
    "    natoms=int(mol.natoms)\n",
    "    \n",
    "    if program==\"MOLPRO\":\n",
    "        \n",
    "        fout=open(\"%s.%06d.com\"%(\"molpro\",ID),\"w\")\n",
    "        fout.write(\"***, %s %s \\n\"%(mol.name,optimization))\n",
    "        fout.write(\"memory,100,M\\n\")\n",
    "        fout.write(\"geometry={\\n\")\n",
    "        \n",
    "        for i in range(natoms):\n",
    "\n",
    "            fout.write(\"%s%d \"%(mol.atom[i],i))\n",
    "            fout.write(\"%15.10f, %15.10f, %15.10f\"%(mol.coord[i][0],\\\n",
    "                                                    mol.coord[i][1],\\\n",
    "                                                    mol.coord[i][2]))\n",
    "            if i==natoms-1:\n",
    "                fout.write(\"}\\n\")\n",
    "            else:\n",
    "                fout.write(\"\\n\")\n",
    "\n",
    "        fout.write(\"basis=%s\"%(basis))\n",
    "        fout.write(\"\\n\")\n",
    "\n",
    "        if cp:\n",
    "            #This functionality doesn't exist yet.\n",
    "            pass\n",
    "        #    fout.write(\"text,cp calculation for %s %dmer_%i\\n\"%(name,m,n))\n",
    "        #    fout.write(\"dummy,\")\n",
    "        #    for i in range(atoms):\n",
    "        #        if molid[i] in dum:\n",
    "        #            tmp=index*atoms\n",
    "        #            fout.write(\"%s%d,\"%(names[tmp+i],i))\n",
    "        #            fout.write(\"\\n\")\n",
    "        #        else:\n",
    "        #            fout.write(\"text,calculation for %s %dmer\\n\"%(name,m))\n",
    "\n",
    "        if theory!=\"hf\":\n",
    "            fout.write(\"hf\\n\")\n",
    "            fout.write(\"%s\"%(theory))\n",
    "            if f12:\n",
    "                fout.write(\"-f12\\n\")\n",
    "            else:\n",
    "                fout.write(\"\\n\")\n",
    "        else:\n",
    "            fout.write(\"hf\\n\")\n",
    "            \n",
    "        if optimization==\"Minimum\":\n",
    "            fout.write(\"optg\\n\")\n",
    "            fout.write(\"maxit=50\\n\")\n",
    "        if optimization==\"Saddle\":\n",
    "            fout.write(\"optg\")\n",
    "\n",
    "        fout.write(\"e_mer=energy\\n\")\n",
    "        if (f12):\n",
    "            fout.write(\"e_mer_F12a=energy(1)\\n\")\n",
    "            fout.write(\"e_mer_F12b=energy(2)\\n\")\n",
    "        fout.write(\"\\n\")\n",
    "        fout.close()\n",
    "        return\n",
    "        \n",
    "    if program==\"NWChem\":\n",
    "        pass"
   ]
  },
  {
   "cell_type": "markdown",
   "metadata": {},
   "source": [
    "#### Function to run electronic structure program"
   ]
  },
  {
   "cell_type": "code",
   "execution_count": 4,
   "metadata": {},
   "outputs": [],
   "source": [
    "@App('bash', dfk)\n",
    "def molpro(ID, outputs=[], stderr=None, stdout=None):\n",
    "    #return \"uname -a; /home/oosode/software/molpro-2015/bin/molpro.exe  molpro.{0:06d}.com\".format(ID)\n",
    "    return \"uname -a; /Users/oosode/Software/molpro-2015/bin/molpro.exe  molpro.{0:06d}.com\".format(ID)"
   ]
  },
  {
   "cell_type": "markdown",
   "metadata": {},
   "source": [
    "#### Function to read electronic structure ouptut"
   ]
  },
  {
   "cell_type": "code",
   "execution_count": 5,
   "metadata": {},
   "outputs": [],
   "source": [
    "def read_output(ID,program,mol):\n",
    "    \n",
    "    energy={}\n",
    "    \n",
    "    if program==\"MOLPRO\": \n",
    "        \n",
    "        c=False\n",
    "        fout=\"molpro.%06d.out\"%(ID)\n",
    "        if not os.path.isfile(fout):\n",
    "            raiseIOError(\"No file for molpro.%06d.com\"%(ID))\n",
    "\n",
    "        else:\n",
    "            fl=open(fout).readlines()\n",
    "\n",
    "            for l in range(len(fl)-1,len(fl)-5,-1):\n",
    "                if fl[l].find(\"Variable memory released\")>=0:\n",
    "                    c=True\n",
    "                    break\n",
    "\n",
    "            if (not c):\n",
    "                energy[0]=\"inf\"\n",
    "                print(\"No energies for file molpro.%06d.com\"%(ID))\n",
    "                return\n",
    "\n",
    "            else:\n",
    "                for l,line in enumerate(fl):\n",
    "                    if line.find(\"SETTING E_MER \")>=0: # energy\n",
    "                        #print(\"hello\")\n",
    "                        energy['simple']=float(line.strip().split()[-2].replace(\"D\",\"E\"))\n",
    "                    \n",
    "                        mol.energy=energy\n",
    "                        #print(mol['energy'])\n",
    "                        \n",
    "                    #if line.find(\"SETTING E_MER_F12A \")>=0: # F12a energy\n",
    "                    #    energy['f12a']=float(line.strip().split()[-2].replace(\"D\",\"E\"))\n",
    "                    #    mol['energy']=energy\n",
    "                    #elif line.find(\"SETTING E_MER_F12B \")>=0: # F12b energy\n",
    "                    #    energy['f12b']=float(line.strip().split()[-2].replace(\"D\",\"E\"))\n",
    "                    #    mol['energy']=energy\n",
    "                    \n",
    "                    elif line.find(\"END OF GEOMETRY OPTIMIZATION.\")>=0:\n",
    "                        natoms=int(fl[l+4].split()[0])\n",
    "                        if natoms != mol.natoms:\n",
    "                            print(\"There is a mismatch in the number of atoms\")\n",
    "                        for n in range(natoms):\n",
    "                            for i in range(3):\n",
    "                                mol.coord[n][i]=float(fl[l+6+n].split()[i+1])\n",
    "                    \n",
    "    return"
   ]
  },
  {
   "cell_type": "markdown",
   "metadata": {},
   "source": [
    "#### Function to setup the PES scan."
   ]
  },
  {
   "cell_type": "code",
   "execution_count": 6,
   "metadata": {},
   "outputs": [],
   "source": [
    "def PES_scan(dim,variables,nCUP):\n",
    "    \n",
    "    # do pes scan\n",
    "    sList = [] # list dimers to scan\n",
    "    \n",
    "    if nCUP==1:\n",
    "        for m in range(len(variables)):\n",
    "            \n",
    "            var0=deepcopy(variables[m])\n",
    "            \n",
    "            for v0 in iter(deepcopy(var0)):\n",
    "                \n",
    "                tmp=deepcopy(dim) # copy dimer\n",
    "                tmp.setup_dimer() \n",
    "                tmp.transform_dimer(v0,var0.name,var0.molID)\n",
    "                tmp.set_dimer()\n",
    "                sList.append(tmp)\n",
    "                \n",
    "    elif nCUP==2:\n",
    "        for m in range(len(variables)):\n",
    "            for n in range(m,len(variables)):\n",
    "                \n",
    "                var0=deepcopy(variables[m])\n",
    "                var1=deepcopy(variables[n])\n",
    "                \n",
    "                for v0 in iter(var0):\n",
    "                    for v1 in iter(var1):\n",
    "                        \n",
    "                        tmp=deepcopy(dim) # copy dimer\n",
    "                        tmp.setup_dimer() \n",
    "                        tmp.transform_dimer(v0,var0.name,var0.molID)\n",
    "                        tmp.transform_dimer(v1,var1.name,var1.molID)\n",
    "                        tmp.set_dimer()\n",
    "                        sList.append(tmp)\n",
    "    \n",
    "    else:\n",
    "        print(\"The coupling between variables (ncup) must be set to either 0 or 1.\")\n",
    "                \n",
    "    print(len(sList))      \n",
    "    return sList"
   ]
  },
  {
   "cell_type": "markdown",
   "metadata": {},
   "source": [
    "#### Class that defines the different variables."
   ]
  },
  {
   "cell_type": "code",
   "execution_count": 7,
   "metadata": {},
   "outputs": [],
   "source": [
    "class Var:\n",
    "    def __init__(self,name,minimum,maximum,inc,unit,mID=1):\n",
    "        self.name=name\n",
    "        self.min=minimum\n",
    "        self.max=maximum\n",
    "        self.inc=inc\n",
    "        self.unit=unit\n",
    "        self.molID=mID\n",
    "        self.current=self.min\n",
    "        return\n",
    "        \n",
    "    def determine_range(self):\n",
    "        x=self.min\n",
    "        tmp=[]\n",
    "        while x<=self.max:\n",
    "            tmp.append(x)\n",
    "            x+=self.inc\n",
    "        self.ranges=tuple(tmp)\n",
    "        return\n",
    "    \n",
    "    def __iter__(self):\n",
    "        return self\n",
    "\n",
    "    def __next__(self):\n",
    "        if self.current > self.max:\n",
    "            raise StopIteration\n",
    "        else:\n",
    "            self.current += self.inc\n",
    "            return self.current - self.inc\n",
    "        "
   ]
  },
  {
   "cell_type": "markdown",
   "metadata": {},
   "source": [
    "## 2. Choose molecules\n",
    "\n",
    "The cells below allows you to pick the two types of molecules for the PES scan. It uses the cirpy module to resolve the name of the molecules and then loads the xyz coordinates and atom names into the `molecule` class. This class then configures the remaining values including atomic mass, number of atoms, etc. \n",
    "\n",
    "**NOTE:** You can change the molecule types from the default \"carbon dioxide\" to any other molecule in the chemical information resolver database. Just change the name below."
   ]
  },
  {
   "cell_type": "code",
   "execution_count": 8,
   "metadata": {},
   "outputs": [
    {
     "name": "stdout",
     "output_type": "stream",
     "text": [
      "Intialized new molecule class: CO2\n",
      "Resolved chemical identification of CO2\n",
      "Intialized new molecule class: H2O\n",
      "Resolved chemical identification of H2O\n"
     ]
    }
   ],
   "source": [
    "mol0 = molecule(\"CO2\",1) # name and number of molecules\n",
    "mol0.resolve()\n",
    "\n",
    "mol1 = molecule(\"H2O\",1)\n",
    "mol1.resolve()\n",
    "\n",
    "mList = (mol0,mol1)"
   ]
  },
  {
   "cell_type": "code",
   "execution_count": 9,
   "metadata": {},
   "outputs": [
    {
     "data": {
      "application/3dmoljs_load.v0": "<div id=\"3dmolviewer_1528901395453115\"  style=\"position: relative; width: 1000px; height: 400px\">\n        <p id=\"3dmolwarning_1528901395453115\" style=\"background-color:#ffcccc;color:black\">You appear to be running in JupyterLab.  You need to install the 3dmol extension: <br>\n        <tt>jupyter labextension install jupyterlab_3dmol</tt></p>\n        </div>\n<script>\n\nvar loadScriptAsync = function(uri){\n  return new Promise((resolve, reject) => {\n    var tag = document.createElement('script');\n    tag.src = uri;\n    tag.async = true;\n    tag.onload = () => {\n      resolve();\n    };\n  var firstScriptTag = document.getElementsByTagName('script')[0];\n  firstScriptTag.parentNode.insertBefore(tag, firstScriptTag);\n});\n};\n\nif(typeof $3Dmolpromise === 'undefined') {\n$3Dmolpromise = null;\n  $3Dmolpromise = loadScriptAsync('https://3dmol.csb.pitt.edu/build/3Dmol.js');\n}\n\nvar viewer_1528901395453115 = null;\nvar warn = document.getElementById(\"3dmolwarning_1528901395453115\");\nif(warn) {\n    warn.parentNode.removeChild(warn);\n}\n$3Dmolpromise.then(function() {\nvar viewergrid_1528901395453115 = null;\nviewergrid_1528901395453115 = $3Dmol.createViewerGrid($(\"#3dmolviewer_1528901395453115\"),{rows: 1, cols: 2, control_all: false},{backgroundColor:\"white\"});\nviewer_1528901395453115 = viewergrid_1528901395453115[0][0];\n\tviewergrid_1528901395453115[0][0].addModel(\"3\\n\\nO    -1.2080000000   -0.0000000000   -0.0000000000\\nO     1.2080000000   -0.0000000000   -0.0000000000\\nC    -0.0000000000    0.0000000000    0.0000000000\\n\",\"xyz\");\n\tviewergrid_1528901395453115[0][1].addModel(\"3\\n\\nH    -0.8110000000    0.4677000000    0.0000000000\\nH     0.8110000000    0.4677000000    0.0000000000\\nO    -0.0000000000   -0.0589000000   -0.0000000000\\n\",\"xyz\");\n\tviewergrid_1528901395453115[0][0].setStyle({\"sphere\": {}});\n\tviewergrid_1528901395453115[0][1].setStyle({\"sphere\": {}});\n\tviewergrid_1528901395453115[0][0].setBackgroundColor(\"0xeeeeee\");\n\tviewergrid_1528901395453115[0][1].setBackgroundColor(\"0xeeeeee\");\n\tviewergrid_1528901395453115[0][0].zoomTo();\nviewergrid_1528901395453115[0][1].render();\nviewergrid_1528901395453115[0][0].render();\n});\n</script>",
      "text/html": [
       "<div id=\"3dmolviewer_1528901395453115\"  style=\"position: relative; width: 1000px; height: 400px\">\n",
       "        <p id=\"3dmolwarning_1528901395453115\" style=\"background-color:#ffcccc;color:black\">You appear to be running in JupyterLab.  You need to install the 3dmol extension: <br>\n",
       "        <tt>jupyter labextension install jupyterlab_3dmol</tt></p>\n",
       "        </div>\n",
       "<script>\n",
       "\n",
       "var loadScriptAsync = function(uri){\n",
       "  return new Promise((resolve, reject) => {\n",
       "    var tag = document.createElement('script');\n",
       "    tag.src = uri;\n",
       "    tag.async = true;\n",
       "    tag.onload = () => {\n",
       "      resolve();\n",
       "    };\n",
       "  var firstScriptTag = document.getElementsByTagName('script')[0];\n",
       "  firstScriptTag.parentNode.insertBefore(tag, firstScriptTag);\n",
       "});\n",
       "};\n",
       "\n",
       "if(typeof $3Dmolpromise === 'undefined') {\n",
       "$3Dmolpromise = null;\n",
       "  $3Dmolpromise = loadScriptAsync('https://3dmol.csb.pitt.edu/build/3Dmol.js');\n",
       "}\n",
       "\n",
       "var viewer_1528901395453115 = null;\n",
       "var warn = document.getElementById(\"3dmolwarning_1528901395453115\");\n",
       "if(warn) {\n",
       "    warn.parentNode.removeChild(warn);\n",
       "}\n",
       "$3Dmolpromise.then(function() {\n",
       "var viewergrid_1528901395453115 = null;\n",
       "viewergrid_1528901395453115 = $3Dmol.createViewerGrid($(\"#3dmolviewer_1528901395453115\"),{rows: 1, cols: 2, control_all: false},{backgroundColor:\"white\"});\n",
       "viewer_1528901395453115 = viewergrid_1528901395453115[0][0];\n",
       "\tviewergrid_1528901395453115[0][0].addModel(\"3\\n\\nO    -1.2080000000   -0.0000000000   -0.0000000000\\nO     1.2080000000   -0.0000000000   -0.0000000000\\nC    -0.0000000000    0.0000000000    0.0000000000\\n\",\"xyz\");\n",
       "\tviewergrid_1528901395453115[0][1].addModel(\"3\\n\\nH    -0.8110000000    0.4677000000    0.0000000000\\nH     0.8110000000    0.4677000000    0.0000000000\\nO    -0.0000000000   -0.0589000000   -0.0000000000\\n\",\"xyz\");\n",
       "\tviewergrid_1528901395453115[0][0].setStyle({\"sphere\": {}});\n",
       "\tviewergrid_1528901395453115[0][1].setStyle({\"sphere\": {}});\n",
       "\tviewergrid_1528901395453115[0][0].setBackgroundColor(\"0xeeeeee\");\n",
       "\tviewergrid_1528901395453115[0][1].setBackgroundColor(\"0xeeeeee\");\n",
       "\tviewergrid_1528901395453115[0][0].zoomTo();\n",
       "viewergrid_1528901395453115[0][1].render();\n",
       "viewergrid_1528901395453115[0][0].render();\n",
       "});\n",
       "</script>"
      ]
     },
     "metadata": {},
     "output_type": "display_data"
    }
   ],
   "source": [
    "view0 = py3Dmol.view(width=1000,height=400,linked=False,viewergrid=(1,2))\n",
    "#view0.removeAllModels(viewer=(0,0))\n",
    "view0.addModel(mol0.xyz(),'xyz',viewer=(0,0))\n",
    "view0.addModel(mol1.xyz(),'xyz',viewer=(0,1))\n",
    "view0.setStyle({'sphere':{}})\n",
    "view0.setBackgroundColor('0xeeeeee')\n",
    "view0.zoomTo(viewer=(0,0))\n",
    "#view0.render()\n",
    "view0.show()"
   ]
  },
  {
   "cell_type": "markdown",
   "metadata": {},
   "source": [
    "## 3. Pick theory\n",
    "\n",
    "The cells below allows you to choose the level of electronic structure theory, the basis set, the use of explicit correlation and the electronic structure program. (Currently, only the MOLPRO software package is implemented.) \n",
    "\n",
    "Some configurations of theory, basis set and programs are not possible. Once you have selected your program variables, make sure to check the configurations availability with the `wrapper.check()` function.\n"
   ]
  },
  {
   "cell_type": "code",
   "execution_count": 10,
   "metadata": {},
   "outputs": [],
   "source": [
    "theory=\"HF\"\n",
    "basis=\"aug-cc-pVDZ\"\n",
    "f12=False\n",
    "program=\"MOLPRO\""
   ]
  },
  {
   "cell_type": "markdown",
   "metadata": {
    "collapsed": true
   },
   "source": [
    "## 4. Optimize monomers\n",
    "\n",
    "You can optimize the two monomers in the cells below. In the first cell, the input files are written. The second cell submits the input files and waits for them to finish. The last cell parses the output file and recovers the data. When running jobs on a compute cluster, the status of the job can be checked using the `qstat` command. The final energy and cartesian coordinates of the geometry are printed. "
   ]
  },
  {
   "cell_type": "markdown",
   "metadata": {},
   "source": [
    "**Write input files**:"
   ]
  },
  {
   "cell_type": "code",
   "execution_count": 11,
   "metadata": {},
   "outputs": [],
   "source": [
    "for ID in range(2):\n",
    "    write_input(ID,mList[ID],theory,basis,program,\"Minimum\",f12,False)\n"
   ]
  },
  {
   "cell_type": "markdown",
   "metadata": {},
   "source": [
    "**Run calculations**:"
   ]
  },
  {
   "cell_type": "code",
   "execution_count": 12,
   "metadata": {},
   "outputs": [],
   "source": [
    "for ID in range(2):\n",
    "    #run_input(ID,program)\n",
    "    fut = molpro(ID, outputs=[\"molpro.%06d.out\"%(ID), \"molpro.%06d.xml\"%(ID)],\n",
    "                     stdout=\"molpro.%06d.stdout\"%(ID),\n",
    "                     stderr=\"molpro.%06d.stderr\"%(ID))"
   ]
  },
  {
   "cell_type": "markdown",
   "metadata": {},
   "source": [
    "**Check status**:"
   ]
  },
  {
   "cell_type": "code",
   "execution_count": 15,
   "metadata": {},
   "outputs": [
    {
     "name": "stdout",
     "output_type": "stream",
     "text": [
      "total 5336\n",
      "-rw-r--r--  1 oosode  staff   39757 Jun 13 10:50 molpro.000000.log\n",
      "-rw-r--r--  1 oosode  staff   17326 Jun 13 10:50 molpro.000000.out\n",
      "-rw-r--r--  1 oosode  staff   26895 Jun 13 10:50 molpro.000000.xml\n",
      "-rw-r--r--  1 oosode  staff   45466 Jun 13 10:50 molpro.000001.log\n",
      "-rw-r--r--  1 oosode  staff   16163 Jun 13 10:50 molpro.000001.out\n",
      "-rw-r--r--  1 oosode  staff   27507 Jun 13 10:50 molpro.000001.xml\n",
      "-rw-r--r--  1 oosode  staff       0 Jun 13 10:49 molpro.000000.stderr\n",
      "-rw-r--r--  1 oosode  staff     136 Jun 13 10:49 molpro.000000.stdout\n",
      "-rw-r--r--  1 oosode  staff       0 Jun 13 10:49 molpro.000001.stderr\n",
      " **********************************************************************************************************************************\n",
      " SETTING MAXIT          =        50.00000000                                  \n",
      " SETTING E_MER          =      -187.66435757  AU                              \n",
      "\n",
      " HF/aug-cc-pVDZ//HF/aug-cc-pVDZ energy=   -187.664357568173\n",
      "\n",
      "        OPTG(HF)        HF-SCF          HF-SCF  \n",
      "   -187.66435757   -187.64608965   -187.64608965\n",
      " **********************************************************************************************************************************\n",
      " Variable memory released\n"
     ]
    }
   ],
   "source": [
    "#!qstat -u $USER\n",
    "!ls -lt | head -10\n",
    "!tail molpro.000000.out"
   ]
  },
  {
   "cell_type": "markdown",
   "metadata": {},
   "source": [
    "**Read output**:"
   ]
  },
  {
   "cell_type": "code",
   "execution_count": 16,
   "metadata": {},
   "outputs": [],
   "source": [
    "for ID in range(2):\n",
    "    read_output(ID,program,mList[ID])"
   ]
  },
  {
   "cell_type": "markdown",
   "metadata": {
    "collapsed": true
   },
   "source": [
    "## 5. Configure dimer position\n",
    "\n",
    "Once the isolated monomers are obtained (and optimized), the next step is to orient them with respect to one another. This is done using a spherical coordinate space, shown below. The __orientation of molecule 1__ and the __orientation of molecule 2__ are determined first, followed by the __position__ of molecule 2 relative to molecule 1. \n",
    "\n",
    "Molecule 1 is always placed at the origin (0,0,0) oriented in space with $\\theta_1$ and $\\phi_1$. The range of $\\theta_1$ is [0°, 180°] and the range of $\\phi_1$ is [0, 360°). Molecule 2 is placed using spherical coordinates at some distance R from the origin, with $\\theta_d$ and $\\phi_d$ ranging from [0°, 180°] and [0, 360°), respectively. The orientation of Molecule 2 is denoted by $\\theta_2$ and $\\phi_2$ values. All angles are in degree units and distances are in angstroms.\n",
    "\n",
    "<img src='https://upload.wikimedia.org/wikipedia/commons/4/4f/3D_Spherical.svg' style=\"width: 300px;\">"
   ]
  },
  {
   "cell_type": "markdown",
   "metadata": {},
   "source": [
    "#### Orientation of molecule 1"
   ]
  },
  {
   "cell_type": "code",
   "execution_count": 17,
   "metadata": {},
   "outputs": [],
   "source": [
    "theta_0 = 0\n",
    "phi_0 = 0"
   ]
  },
  {
   "cell_type": "markdown",
   "metadata": {},
   "source": [
    "#### Orientation of molecule 2"
   ]
  },
  {
   "cell_type": "code",
   "execution_count": 18,
   "metadata": {},
   "outputs": [],
   "source": [
    "theta_1 = 0\n",
    "phi_1 = 0"
   ]
  },
  {
   "cell_type": "code",
   "execution_count": 19,
   "metadata": {},
   "outputs": [],
   "source": [
    "tList = (theta_0,theta_1)\n",
    "pList = (phi_0,phi_1)"
   ]
  },
  {
   "cell_type": "markdown",
   "metadata": {},
   "source": [
    "#### Position"
   ]
  },
  {
   "cell_type": "code",
   "execution_count": 20,
   "metadata": {},
   "outputs": [],
   "source": [
    "R = 4.0\n",
    "theta_d = 90\n",
    "phi_d = -90"
   ]
  },
  {
   "cell_type": "markdown",
   "metadata": {},
   "source": [
    "#### Orient dimer"
   ]
  },
  {
   "cell_type": "code",
   "execution_count": 21,
   "metadata": {},
   "outputs": [
    {
     "name": "stdout",
     "output_type": "stream",
     "text": [
      "Intialized new molecule class: whatever\n"
     ]
    }
   ],
   "source": [
    "for i,m in enumerate(mList):\n",
    "    m.calculate_com()\n",
    "    m.center()\n",
    "    m.rotate_theta(tList[i],0)\n",
    "    m.rotate_phi(pList[i],0)\n",
    "\n",
    "dimer=molecule(\"whatever\",1)\n",
    "dimer.init_dimer(mList[0],mList[1])\n",
    "dimer.position(R,theta_d,phi_d)\n",
    "dimer.calculate_vector()"
   ]
  },
  {
   "cell_type": "markdown",
   "metadata": {},
   "source": [
    "#### Show dimer"
   ]
  },
  {
   "cell_type": "code",
   "execution_count": 24,
   "metadata": {},
   "outputs": [
    {
     "data": {
      "application/3dmoljs_load.v0": "<div id=\"3dmolviewer_152890143791506\"  style=\"position: relative; width: 1000px; height: 700px\">\n        <p id=\"3dmolwarning_152890143791506\" style=\"background-color:#ffcccc;color:black\">You appear to be running in JupyterLab.  You need to install the 3dmol extension: <br>\n        <tt>jupyter labextension install jupyterlab_3dmol</tt></p>\n        </div>\n<script>\n\nvar loadScriptAsync = function(uri){\n  return new Promise((resolve, reject) => {\n    var tag = document.createElement('script');\n    tag.src = uri;\n    tag.async = true;\n    tag.onload = () => {\n      resolve();\n    };\n  var firstScriptTag = document.getElementsByTagName('script')[0];\n  firstScriptTag.parentNode.insertBefore(tag, firstScriptTag);\n});\n};\n\nif(typeof $3Dmolpromise === 'undefined') {\n$3Dmolpromise = null;\n  $3Dmolpromise = loadScriptAsync('https://3dmol.csb.pitt.edu/build/3Dmol.js');\n}\n\nvar viewer_152890143791506 = null;\nvar warn = document.getElementById(\"3dmolwarning_152890143791506\");\nif(warn) {\n    warn.parentNode.removeChild(warn);\n}\n$3Dmolpromise.then(function() {\nviewer_152890143791506 = $3Dmol.createViewer($(\"#3dmolviewer_152890143791506\"),{backgroundColor:\"white\"});\n\tviewer_152890143791506.addModel(\"6\\n\\nO    -1.1418296019    0.0000000000    0.0000000000\\nO     1.1418296019    0.0000000000    0.0000000000\\nC     0.0000000000    0.0000000000    0.0000000000\\nH    -0.7532755405   -3.4952579590    0.0000000000\\nH     0.7532755405   -3.4952579590    0.0000000000\\nO     0.0000000000   -4.0635960965    0.0000000000\\n\",\"xyz\");\n\tviewer_152890143791506.setStyle({\"stick\": {}});\n\tviewer_152890143791506.setBackgroundColor(\"0xeeeeee\");\nviewer_152890143791506.render();\n});\n</script>",
      "text/html": [
       "<div id=\"3dmolviewer_152890143791506\"  style=\"position: relative; width: 1000px; height: 700px\">\n",
       "        <p id=\"3dmolwarning_152890143791506\" style=\"background-color:#ffcccc;color:black\">You appear to be running in JupyterLab.  You need to install the 3dmol extension: <br>\n",
       "        <tt>jupyter labextension install jupyterlab_3dmol</tt></p>\n",
       "        </div>\n",
       "<script>\n",
       "\n",
       "var loadScriptAsync = function(uri){\n",
       "  return new Promise((resolve, reject) => {\n",
       "    var tag = document.createElement('script');\n",
       "    tag.src = uri;\n",
       "    tag.async = true;\n",
       "    tag.onload = () => {\n",
       "      resolve();\n",
       "    };\n",
       "  var firstScriptTag = document.getElementsByTagName('script')[0];\n",
       "  firstScriptTag.parentNode.insertBefore(tag, firstScriptTag);\n",
       "});\n",
       "};\n",
       "\n",
       "if(typeof $3Dmolpromise === 'undefined') {\n",
       "$3Dmolpromise = null;\n",
       "  $3Dmolpromise = loadScriptAsync('https://3dmol.csb.pitt.edu/build/3Dmol.js');\n",
       "}\n",
       "\n",
       "var viewer_152890143791506 = null;\n",
       "var warn = document.getElementById(\"3dmolwarning_152890143791506\");\n",
       "if(warn) {\n",
       "    warn.parentNode.removeChild(warn);\n",
       "}\n",
       "$3Dmolpromise.then(function() {\n",
       "viewer_152890143791506 = $3Dmol.createViewer($(\"#3dmolviewer_152890143791506\"),{backgroundColor:\"white\"});\n",
       "\tviewer_152890143791506.addModel(\"6\\n\\nO    -1.1418296019    0.0000000000    0.0000000000\\nO     1.1418296019    0.0000000000    0.0000000000\\nC     0.0000000000    0.0000000000    0.0000000000\\nH    -0.7532755405   -3.4952579590    0.0000000000\\nH     0.7532755405   -3.4952579590    0.0000000000\\nO     0.0000000000   -4.0635960965    0.0000000000\\n\",\"xyz\");\n",
       "\tviewer_152890143791506.setStyle({\"stick\": {}});\n",
       "\tviewer_152890143791506.setBackgroundColor(\"0xeeeeee\");\n",
       "viewer_152890143791506.render();\n",
       "});\n",
       "</script>"
      ]
     },
     "metadata": {},
     "output_type": "display_data"
    }
   ],
   "source": [
    "view1 = py3Dmol.view(width=1000,height=700)\n",
    "view1.addModel(dimer.xyz(),'xyz')\n",
    "view1.setStyle({'stick':{}})\n",
    "view1.setBackgroundColor('0xeeeeee')\n",
    "view1.show()"
   ]
  },
  {
   "cell_type": "markdown",
   "metadata": {
    "collapsed": true
   },
   "source": [
    "## 6. Optimize dimer structure\n",
    "\n",
    "The dimer structure can be optimized such that any potential energy scan originates from either a global or local minimum, or a saddle point. To optimize to a minimum, set the optimization flag to `Minimum`, and to optimize to a saddle point, set the optimization variable to `Saddle`. If you prefer not to optimize the dimer further, specify `None`.\n",
    "\n"
   ]
  },
  {
   "cell_type": "code",
   "execution_count": 25,
   "metadata": {},
   "outputs": [],
   "source": [
    "optimization=\"None\""
   ]
  },
  {
   "cell_type": "code",
   "execution_count": 26,
   "metadata": {},
   "outputs": [],
   "source": [
    "if optimization==\"None\":\n",
    "    pass\n",
    "\n",
    "elif optimization==\"Minimum\" or \"Saddle\":\n",
    "    write_input(3,dim,theory,basis,program,optimization,f12,False)\n",
    "    fut = molpro(3, outputs=[\"molpro.%06d.out\"%(3), \"molpro.%06d.xml\"%(3)],\n",
    "                     stdout=\"molpro.%06d.stdout\"%(3),\n",
    "                     stderr=\"molpro.%06d.stderr\"%(3))\n",
    "    read_output(3,program)\n",
    "    \n",
    "else:\n",
    "    raise IOError(\"Unknown optimization.\")"
   ]
  },
  {
   "cell_type": "markdown",
   "metadata": {},
   "source": [
    "## 7. Setup scan\n",
    "\n",
    "The potential energy surface will be scanned along some characteristic coordinate(s). There is no limit to the number coordinates to scan however, the maximum coupling between coordinates is 2. Some examples of coordinates include the 'R' distance, the $\\phi_1$ angle or the $\\theta_d$ angle. For each coordinate, the range of values and the increment must be specified. Increments for distances are in angstroms and are in degrees for angles. "
   ]
  },
  {
   "cell_type": "markdown",
   "metadata": {},
   "source": [
    "**Which variables?**"
   ]
  },
  {
   "cell_type": "code",
   "execution_count": 27,
   "metadata": {},
   "outputs": [],
   "source": [
    "variables=[]\n",
    "\n",
    "Rname = 'translation'\n",
    "Rmini = 2.0\n",
    "Rmaxi = 8.0\n",
    "Rincr = 0.1\n",
    "Runit = 'angstrom'\n",
    "\n",
    "var1=Var(Rname,Rmini,Rmaxi,Rincr,Runit,1)\n",
    "var1.determine_range()\n",
    "variables.append(var1)\n",
    "\n",
    "#tname = 'theta'\n",
    "#tmini = -90.0\n",
    "#tmaxi =  90.0\n",
    "#tincr =  10.0\n",
    "#tunit = 'degrees'\n",
    "#tID = 0\n",
    "\n",
    "#var2=Var(tname,tmini,tmaxi,tincr,tunit,tID)\n",
    "#variables.append(var2)"
   ]
  },
  {
   "cell_type": "markdown",
   "metadata": {},
   "source": [
    "**number of variable coupling?**"
   ]
  },
  {
   "cell_type": "code",
   "execution_count": 28,
   "metadata": {},
   "outputs": [],
   "source": [
    "nCUP=1"
   ]
  },
  {
   "cell_type": "markdown",
   "metadata": {},
   "source": [
    "## 8. PES scan\n",
    "\n",
    "Once the scan variables are determined, proceed through the next cells to perform electronic structure calculations on each of the dimer configurations."
   ]
  },
  {
   "cell_type": "markdown",
   "metadata": {},
   "source": [
    "#### Determine dimer configurations\n",
    "\n",
    "This also prints the number of configurations to evaluate."
   ]
  },
  {
   "cell_type": "code",
   "execution_count": 29,
   "metadata": {},
   "outputs": [
    {
     "name": "stdout",
     "output_type": "stream",
     "text": [
      "61\n"
     ]
    }
   ],
   "source": [
    "dimer_scans=PES_scan(dimer,variables,nCUP)"
   ]
  },
  {
   "cell_type": "code",
   "execution_count": 33,
   "metadata": {
    "scrolled": false
   },
   "outputs": [
    {
     "name": "stdout",
     "output_type": "stream",
     "text": [
      "[[-1.1418296019, 8.899802609288219e-17, 1.9081127735955607e-17], [1.1418296019, -5.083577062097098e-17, 1.9081127735955607e-17], [0.0, -5.083577062097098e-17, -5.083577062097098e-17], [-0.7532755405, -1.4952579589594226, 1.4773336712303596e-16], [0.7532755405, -1.4952579589594226, 1.4773336712303596e-16], [1.3217054322269104e-16, -2.063596096459422, 9.610531683603202e-17]]\n"
     ]
    }
   ],
   "source": [
    "print(dimer_scans[0].coord)"
   ]
  },
  {
   "cell_type": "markdown",
   "metadata": {},
   "source": [
    "#### Write scan input files"
   ]
  },
  {
   "cell_type": "code",
   "execution_count": 34,
   "metadata": {},
   "outputs": [],
   "source": [
    "for k,dscan in enumerate(dimer_scans): # loop over monomers\n",
    "    write_input(k+3,dscan,theory,basis,program,\"None\",f12,False)"
   ]
  },
  {
   "cell_type": "markdown",
   "metadata": {},
   "source": [
    "#### Run calculations"
   ]
  },
  {
   "cell_type": "code",
   "execution_count": 35,
   "metadata": {},
   "outputs": [],
   "source": [
    "for k in range(len(dimer_scans)):\n",
    "    #run_input(k+3,program)\n",
    "    fut = molpro(k+3, outputs=[\"molpro.%06d.out\"%(k+3), \"molpro.%06d.xml\"%(k+3)],\n",
    "                     stdout=\"molpro.%06d.stdout\"%(k+3),\n",
    "                     stderr=\"molpro.%06d.stderr\"%(k+3))"
   ]
  },
  {
   "cell_type": "code",
   "execution_count": 43,
   "metadata": {},
   "outputs": [
    {
     "name": "stdout",
     "output_type": "stream",
     "text": [
      "total 10248\r\n",
      "-rw-r--r--  1 oosode  staff   52875 Jun 13 10:54 pes-2b.ipynb\r\n",
      "-rw-r--r--  1 oosode  staff   14403 Jun 13 10:54 molpro.000063.out\r\n",
      "-rw-r--r--  1 oosode  staff   18573 Jun 13 10:54 molpro.000063.xml\r\n",
      "-rw-r--r--  1 oosode  staff   14403 Jun 13 10:54 molpro.000062.out\r\n",
      "-rw-r--r--  1 oosode  staff   18572 Jun 13 10:54 molpro.000062.xml\r\n",
      "-rw-r--r--  1 oosode  staff   14403 Jun 13 10:54 molpro.000060.out\r\n",
      "-rw-r--r--  1 oosode  staff   18572 Jun 13 10:54 molpro.000060.xml\r\n",
      "-rw-r--r--  1 oosode  staff   14403 Jun 13 10:54 molpro.000061.out\r\n",
      "-rw-r--r--  1 oosode  staff   18571 Jun 13 10:54 molpro.000061.xml\r\n"
     ]
    }
   ],
   "source": [
    "#!qstat -u $USER\n",
    "! ls -lt | head -10"
   ]
  },
  {
   "cell_type": "markdown",
   "metadata": {},
   "source": [
    "#### Read outputs and collect energies"
   ]
  },
  {
   "cell_type": "code",
   "execution_count": 44,
   "metadata": {},
   "outputs": [],
   "source": [
    "x=[]\n",
    "nrg=[]\n",
    "for k,dscan in enumerate(dimer_scans): # loop over dimers\n",
    "    read_output(k+3,program,dscan)\n",
    "    nrg.append(dscan.energy['simple'])\n"
   ]
  },
  {
   "cell_type": "markdown",
   "metadata": {},
   "source": [
    "## 9. Plot PES\n",
    "\n"
   ]
  },
  {
   "cell_type": "code",
   "execution_count": 45,
   "metadata": {},
   "outputs": [
    {
     "data": {
      "text/plain": [
       "[<matplotlib.lines.Line2D at 0x1107ac748>]"
      ]
     },
     "execution_count": 45,
     "metadata": {},
     "output_type": "execute_result"
    },
    {
     "data": {
      "image/png": "[encoded data removed]",
      "text/plain": [
       "<Figure size 432x288 with 1 Axes>"
      ]
     },
     "metadata": {},
     "output_type": "display_data"
    }
   ],
   "source": [
    "%matplotlib inline\n",
    "plt.figure()\n",
    "plt.title(\"Dimer energies\", size='xx-large')\n",
    "plt.ylabel(\"total energy / hartrees\", size='x-large')\n",
    "plt.ylim([-263.708,-263.70])\n",
    "plt.plot(variables[0].ranges,nrg)"
   ]
  },
  {
   "cell_type": "code",
   "execution_count": null,
   "metadata": {},
   "outputs": [],
   "source": []
  }
 ],
 "metadata": {
  "kernelspec": {
   "display_name": "Python3.6",
   "language": "python",
   "name": "python36"
  },
  "language_info": {
   "codemirror_mode": {
    "name": "ipython",
    "version": 3
   },
   "file_extension": ".py",
   "mimetype": "text/x-python",
   "name": "python",
   "nbconvert_exporter": "python",
   "pygments_lexer": "ipython3",
   "version": "3.6.5"
  },
  "widgets": {
   "application/vnd.jupyter.widget-state+json": {
    "state": {
     "3624da04d68a4aa2a25d360e738763af": {
      "model_module_version": "^2.1.4",
      "state": {
       "value": "<table style=\"width:100%\">\n                <thead>\n                    <tr>\n                        <th colspan=\"2\">\n                        Could not create model:\n                        </th>\n                    </tr>\n                </thead>\n                <tbody>\n                    <tr>\n                        <td>Model name</td>\n                        <td> undefined </td>\n                    </tr>\n                    <tr>\n                        <td>Model module</td>\n                        <td> undefined </td>\n                    </tr>\n                    <tr>\n                        <td>Model module version</td>\n                        <td> undefined </td>\n                    </tr>\n                <tbody>\n                <tfoot>\n                    <tr>\n                        <th colspan=\"2\">\n                        Class undefined not found in registry \n                        </th>\n                    </tr>\n                </tfoot>\n                </table>"
      }
     },
     "8de269a0d31c4de38704899b4b8c9dc6": {
      "model_module_version": "^2.1.4",
      "state": {
       "description": "x",
       "value": "<table style=\"width:100%\">\n                <thead>\n                    <tr>\n                        <th colspan=\"2\">\n                        Could not create model:\n                        </th>\n                    </tr>\n                </thead>\n                <tbody>\n                    <tr>\n                        <td>Model name</td>\n                        <td> undefined </td>\n                    </tr>\n                    <tr>\n                        <td>Model module</td>\n                        <td> undefined </td>\n                    </tr>\n                    <tr>\n                        <td>Model module version</td>\n                        <td> undefined </td>\n                    </tr>\n                <tbody>\n                <tfoot>\n                    <tr>\n                        <th colspan=\"2\">\n                        Class undefined not found in registry \n                        </th>\n                    </tr>\n                </tfoot>\n                </table>"
      }
     },
     "9593ab0cdd0f4e34ade7d793a0008e4c": {
      "model_module_version": "^2.1.4",
      "state": {
       "msg_id": "",
       "value": "<table style=\"width:100%\">\n                <thead>\n                    <tr>\n                        <th colspan=\"2\">\n                        Could not create model:\n                        </th>\n                    </tr>\n                </thead>\n                <tbody>\n                    <tr>\n                        <td>Model name</td>\n                        <td> undefined </td>\n                    </tr>\n                    <tr>\n                        <td>Model module</td>\n                        <td> undefined </td>\n                    </tr>\n                    <tr>\n                        <td>Model module version</td>\n                        <td> undefined </td>\n                    </tr>\n                <tbody>\n                <tfoot>\n                    <tr>\n                        <th colspan=\"2\">\n                        Class undefined not found in registry \n                        </th>\n                    </tr>\n                </tfoot>\n                </table>"
      }
     },
     "9ff03ac7a9eb44a28ee4dfef5292f36f": {
      "model_module_version": "^2.1.4",
      "state": {
       "value": "<table style=\"width:100%\">\n                <thead>\n                    <tr>\n                        <th colspan=\"2\">\n                        Could not create model:\n                        </th>\n                    </tr>\n                </thead>\n                <tbody>\n                    <tr>\n                        <td>Model name</td>\n                        <td> undefined </td>\n                    </tr>\n                    <tr>\n                        <td>Model module</td>\n                        <td> undefined </td>\n                    </tr>\n                    <tr>\n                        <td>Model module version</td>\n                        <td> undefined </td>\n                    </tr>\n                <tbody>\n                <tfoot>\n                    <tr>\n                        <th colspan=\"2\">\n                        Class undefined not found in registry \n                        </th>\n                    </tr>\n                </tfoot>\n                </table>"
      }
     },
     "a94d2ce0839e41b192de5aa27fedfc8d": {
      "model_module_version": "^2.1.4",
      "state": {
       "children": [
        "IPY_MODEL_8de269a0d31c4de38704899b4b8c9dc6",
        "IPY_MODEL_9593ab0cdd0f4e34ade7d793a0008e4c"
       ],
       "value": "<table style=\"width:100%\">\n                <thead>\n                    <tr>\n                        <th colspan=\"2\">\n                        Could not create model:\n                        </th>\n                    </tr>\n                </thead>\n                <tbody>\n                    <tr>\n                        <td>Model name</td>\n                        <td> undefined </td>\n                    </tr>\n                    <tr>\n                        <td>Model module</td>\n                        <td> undefined </td>\n                    </tr>\n                    <tr>\n                        <td>Model module version</td>\n                        <td> undefined </td>\n                    </tr>\n                <tbody>\n                <tfoot>\n                    <tr>\n                        <th colspan=\"2\">\n                        Class undefined not found in registry \n                        </th>\n                    </tr>\n                </tfoot>\n                </table>"
      }
     },
     "b12a22f97fe04799a0f131e5f8c0c738": {
      "model_module_version": "^2.1.4",
      "state": {
       "value": "<table style=\"width:100%\">\n                <thead>\n                    <tr>\n                        <th colspan=\"2\">\n                        Could not create model:\n                        </th>\n                    </tr>\n                </thead>\n                <tbody>\n                    <tr>\n                        <td>Model name</td>\n                        <td> undefined </td>\n                    </tr>\n                    <tr>\n                        <td>Model module</td>\n                        <td> undefined </td>\n                    </tr>\n                    <tr>\n                        <td>Model module version</td>\n                        <td> undefined </td>\n                    </tr>\n                <tbody>\n                <tfoot>\n                    <tr>\n                        <th colspan=\"2\">\n                        Class undefined not found in registry \n                        </th>\n                    </tr>\n                </tfoot>\n                </table>"
      }
     },
     "d7dc9890a6044ac58f3caab9117d7c62": {
      "model_module_version": "^2.1.4",
      "state": {
       "value": "<table style=\"width:100%\">\n                <thead>\n                    <tr>\n                        <th colspan=\"2\">\n                        Could not create model:\n                        </th>\n                    </tr>\n                </thead>\n                <tbody>\n                    <tr>\n                        <td>Model name</td>\n                        <td> undefined </td>\n                    </tr>\n                    <tr>\n                        <td>Model module</td>\n                        <td> undefined </td>\n                    </tr>\n                    <tr>\n                        <td>Model module version</td>\n                        <td> undefined </td>\n                    </tr>\n                <tbody>\n                <tfoot>\n                    <tr>\n                        <th colspan=\"2\">\n                        Class undefined not found in registry \n                        </th>\n                    </tr>\n                </tfoot>\n                </table>"
      }
     },
     "e11546946bf44f93b1dba17844cf4fdb": {
      "model_module_version": "^2.1.4",
      "state": {
       "value": "<table style=\"width:100%\">\n                <thead>\n                    <tr>\n                        <th colspan=\"2\">\n                        Could not create model:\n                        </th>\n                    </tr>\n                </thead>\n                <tbody>\n                    <tr>\n                        <td>Model name</td>\n                        <td> undefined </td>\n                    </tr>\n                    <tr>\n                        <td>Model module</td>\n                        <td> undefined </td>\n                    </tr>\n                    <tr>\n                        <td>Model module version</td>\n                        <td> undefined </td>\n                    </tr>\n                <tbody>\n                <tfoot>\n                    <tr>\n                        <th colspan=\"2\">\n                        Class undefined not found in registry \n                        </th>\n                    </tr>\n                </tfoot>\n                </table>"
      }
     },
     "e80d58cb081a44cc8c5e1ed1307f05c9": {
      "model_module_version": "^2.1.4",
      "state": {
       "value": "<table style=\"width:100%\">\n                <thead>\n                    <tr>\n                        <th colspan=\"2\">\n                        Could not create model:\n                        </th>\n                    </tr>\n                </thead>\n                <tbody>\n                    <tr>\n                        <td>Model name</td>\n                        <td> undefined </td>\n                    </tr>\n                    <tr>\n                        <td>Model module</td>\n                        <td> undefined </td>\n                    </tr>\n                    <tr>\n                        <td>Model module version</td>\n                        <td> undefined </td>\n                    </tr>\n                <tbody>\n                <tfoot>\n                    <tr>\n                        <th colspan=\"2\">\n                        Class undefined not found in registry \n                        </th>\n                    </tr>\n                </tfoot>\n                </table>"
      }
     },
     "eb84007c40c1481cb73f9fc4fc8a8750": {
      "model_module_version": "^2.1.4",
      "state": {
       "value": "<table style=\"width:100%\">\n                <thead>\n                    <tr>\n                        <th colspan=\"2\">\n                        Could not create model:\n                        </th>\n                    </tr>\n                </thead>\n                <tbody>\n                    <tr>\n                        <td>Model name</td>\n                        <td> undefined </td>\n                    </tr>\n                    <tr>\n                        <td>Model module</td>\n                        <td> undefined </td>\n                    </tr>\n                    <tr>\n                        <td>Model module version</td>\n                        <td> undefined </td>\n                    </tr>\n                <tbody>\n                <tfoot>\n                    <tr>\n                        <th colspan=\"2\">\n                        Class undefined not found in registry \n                        </th>\n                    </tr>\n                </tfoot>\n                </table>"
      }
     }
    },
    "version_major": 1,
    "version_minor": 0
   }
  }
 },
 "nbformat": 4,
 "nbformat_minor": 2
}
